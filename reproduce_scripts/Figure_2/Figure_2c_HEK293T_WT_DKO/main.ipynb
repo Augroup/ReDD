{
 "cells": [
  {
   "cell_type": "code",
   "execution_count": 1,
   "id": "3b1fe42f",
   "metadata": {},
   "outputs": [],
   "source": [
    "import numpy as np\n",
    "from sklearn.cluster import SpectralClustering,KMeans\n",
    "from sklearn.metrics import average_precision_score\n",
    "from sklearn.metrics import roc_auc_score\n",
    "from sklearn.metrics import roc_curve\n",
    "from sklearn.metrics import precision_recall_curve\n",
    "from sklearn.metrics import matthews_corrcoef,accuracy_score,precision_score,recall_score,confusion_matrix\n",
    "from scipy.stats import pearsonr\n",
    "import matplotlib.pyplot as plt\n",
    "import os"
   ]
  },
  {
   "cell_type": "code",
   "execution_count": 2,
   "id": "342986e4",
   "metadata": {},
   "outputs": [],
   "source": [
    "outputfolder=\"figures/\"\n",
    "\n",
    "# HL: evaluate this sample\n",
    "datatype=\"HEK293T_WT_directRNA\" \n",
    "# HL: use this model\n",
    "modelname=\"hg38retrain_HEK293T_KO1_chrsplitHEK293T_WT_directRNA_epochs1_100_epochs2_88\" \n"
   ]
  },
  {
   "cell_type": "code",
   "execution_count": 3,
   "id": "3eb53e3e",
   "metadata": {},
   "outputs": [],
   "source": [
    "# HL: transfer from dataden \"/umms-kinfai/duolin/ying/reditools2_candidates/\"\n",
    "hash_candidat={}\n",
    "hash_candidat['AFG-H1_directRNA']='H1-AFG.candidate_sites.tab'\n",
    "hash_candidat['AFG-H9_directRNA']='H9-AFG.candidate_sites.tab'\n",
    "hash_candidat[\"PGC-H1_directRNA\"]='H1-PGC.candidate_sites.tab'\n",
    "hash_candidat[\"DE-H1_directRNA\"]='H1-DE.candidate_sites.tab'\n",
    "hash_candidat[\"DE-H9_directRNA\"]='H9-DE.candidate_sites.tab'\n",
    "hash_candidat[\"GM12878_directRNA\"]='GM12878.candidate_sites.tab'\n",
    "hash_candidat[\"H1-hESC_directRNA\"]='H1-hESC.candidate_sites.tab'\n",
    "hash_candidat[\"H9-hESC_directRNA\"]='H9-hESC.candidate_sites.tab'\n",
    "hash_candidat['HEK293T_DKO_directRNA']='HEK293T_WT.candidate_sites.tab'\n",
    "hash_candidat[\"HEK293T_WT_directRNA\"]='HEK293T_WT.candidate_sites.tab'\n",
    "hash_candidat[\"HEK_WT_pass\"]='HEK293T_WT.candidate_sites.tab'\n",
    "candidatefile=\"/nfs/turbo/umms-kinfai/haorli/20240314_ReDD_result_data/figure2a/reditools2_candidates/\"+hash_candidat[datatype]\n"
   ]
  },
  {
   "cell_type": "code",
   "execution_count": 4,
   "id": "654a46a3",
   "metadata": {},
   "outputs": [],
   "source": [
    "AG_ratio_per_site={}\n",
    "shortreadcoverage={}\n",
    "input = open(candidatefile,'r')\n",
    "for line in input:\n",
    "    chr_ = line.split()[0]\n",
    "    pos_ = line.split()[1]\n",
    "    chrpos=chr_+\"-\"+pos_\n",
    "    if float(line.split(\"\\t\")[4]) < 10:\n",
    "        continue\n",
    "    AG_ratio_per_site[chrpos]=float(line.split(\"\\t\")[3])\n",
    "    shortreadcoverage[chrpos]=float(line.split(\"\\t\")[4])"
   ]
  },
  {
   "cell_type": "code",
   "execution_count": 5,
   "id": "e3dd7f78",
   "metadata": {},
   "outputs": [],
   "source": [
    "#REDD\n",
    "featuredim=5\n",
    "windowsize=9\n",
    "inputfolder=\"/nfs/turbo/umms-kinfai/haorli/20240314_ReDD_result_data/figure2c/ReDD_results/\"\n",
    "modelname = 'hg38_merge9alldata5_noearlystop_run1ep40_run2ep60_negsite_HEK293T_WT_directRNA_epochs5_KOnonw5_withLSTM'\n",
    "\n",
    "# WT data\n",
    "datatype=\"HEK293T_WT_directRNA\"\n",
    "filename=inputfolder+\"/\"+modelname+\"/\"+datatype+\"_onlycandidate.txt\"\n",
    "input = open(filename)\n",
    "pos_coverage={}\n",
    "coverage = {}\n",
    "cutoff = 0.5#0.5\n",
    "for line in input:\n",
    "    score=float(line.split(\"\\t\")[-1])\n",
    "    if score>=cutoff:\n",
    "       predict_label=1\n",
    "    else:\n",
    "       predict_label=0\n",
    "    \n",
    "    transid= line.split(\"\\t\")[2]\n",
    "    transpos = line.split(\"\\t\")[3]\n",
    "    chrpos = transid+\"-\"+transpos\n",
    "    \n",
    "    if chrpos not in pos_coverage.keys():\n",
    "        pos_coverage[chrpos]=predict_label\n",
    "        coverage[chrpos]=1\n",
    "    else:\n",
    "        pos_coverage[chrpos]+=predict_label\n",
    "        coverage[chrpos]+=1\n",
    "long_reads_min_coverage = 5\n",
    "WT_predict_value_all={}\n",
    "for site in AG_ratio_per_site:   \n",
    "     if site in pos_coverage:\n",
    "          if coverage[site] >= long_reads_min_coverage:\n",
    "              WT_predict_value_all[site]=float(pos_coverage[site]/coverage[site])\n",
    "                \n",
    "\n",
    "# DKO data\n",
    "datatype=\"HEK293T_DKO_directRNA\"\n",
    "filename=inputfolder+\"/\"+modelname+\"/\"+datatype+\"_onlycandidate.txt\"\n",
    "input = open(filename)\n",
    "pos_coverage={}\n",
    "coverage = {}\n",
    "cutoff = 0.5#0.5\n",
    "for line in input:\n",
    "    score=float(line.split(\"\\t\")[-1])\n",
    "    if score>=cutoff:\n",
    "       predict_label=1\n",
    "    else:\n",
    "       predict_label=0\n",
    "    \n",
    "    transid= line.split(\"\\t\")[2]\n",
    "    transpos = line.split(\"\\t\")[3]\n",
    "    chrpos = transid+\"-\"+transpos\n",
    "    \n",
    "    if chrpos not in pos_coverage.keys():\n",
    "        pos_coverage[chrpos]=predict_label\n",
    "        coverage[chrpos]=1\n",
    "    else:\n",
    "        pos_coverage[chrpos]+=predict_label\n",
    "        coverage[chrpos]+=1\n",
    "long_reads_min_coverage = 5\n",
    "DKO_predict_value_all={}\n",
    "for site in AG_ratio_per_site:   \n",
    "     if site in pos_coverage:\n",
    "          if coverage[site] >= long_reads_min_coverage:\n",
    "              DKO_predict_value_all[site]=float(pos_coverage[site]/coverage[site])"
   ]
  },
  {
   "cell_type": "code",
   "execution_count": 6,
   "id": "c5e0ab2e",
   "metadata": {},
   "outputs": [],
   "source": [
    "true_list=[]\n",
    "WT_predict_list = []\n",
    "DKO_predict_list = []\n",
    "coords_list = []\n",
    "for key in WT_predict_value_all:#1259\n",
    "    true_list.append(AG_ratio_per_site[key])\n",
    "    WT_predict_list.append(WT_predict_value_all[key])\n",
    "    if key in DKO_predict_value_all:\n",
    "        DKO_predict_list.append(DKO_predict_value_all[key])\n",
    "    else:\n",
    "        DKO_predict_list.append(0)\n",
    "    coords_list.append(key)\n",
    "true_list,WT_predict_list,DKO_predict_list,coords_list = np.array(true_list),np.array(WT_predict_list),np.array(DKO_predict_list),np.array(coords_list)\n"
   ]
  },
  {
   "cell_type": "code",
   "execution_count": 7,
   "id": "fcb8a232",
   "metadata": {},
   "outputs": [],
   "source": [
    "# export to csv\n",
    "import pandas as pd\n",
    "from pathlib import Path\n",
    "df = pd.DataFrame([coords_list,true_list,WT_predict_list,DKO_predict_list]).T\n",
    "df.columns = ['Site','truth','ReDD_WT','ReDD_DKO']\n",
    "Path('plot_data').mkdir(exist_ok=True,parents=True)\n",
    "df.to_csv('plot_data/site_ratio.tsv',sep='\\t',index=False)"
   ]
  },
  {
   "cell_type": "code",
   "execution_count": 8,
   "id": "63a4daf5",
   "metadata": {},
   "outputs": [],
   "source": [
    "num_bins = 5\n",
    "binsize=1/num_bins\n",
    "def binize_list(true_list,predict_list):\n",
    "    ratio_list = np.arange(0,1,binsize) #np.random.uniform(0.0, 1.0, 30)\n",
    "    ratio_list.sort()\n",
    "    sample_size=[]\n",
    "    AG_ratios_bin=[]\n",
    "    predict_ratio_bin = []\n",
    "    ratio_bin_list=[]\n",
    "    for index in range(len(ratio_list)):\n",
    "        start = ratio_list[index]\n",
    "        end = start+binsize\n",
    "        index_start_end = np.where((true_list<=end) &(true_list>start))[0]\n",
    "        if(len(index_start_end)>1):\n",
    "            ratio_bin_list.append(start)\n",
    "            AG_ratios_bin.append(true_list[index_start_end])\n",
    "            predict_ratio_bin.append(predict_list[index_start_end])\n",
    "            sample_size.append(len(predict_list[index_start_end]))\n",
    "    return AG_ratios_bin,predict_ratio_bin,sample_size\n"
   ]
  },
  {
   "cell_type": "code",
   "execution_count": 9,
   "id": "ca62d7f9",
   "metadata": {},
   "outputs": [],
   "source": [
    "WT_AG_ratios_bin,WT_predict_ratio_bin,WT_sample_size = binize_list(true_list,WT_predict_list)\n",
    "DKO_AG_ratios_bin,DKO_predict_ratio_bin,DKO_sample_size = binize_list(true_list,DKO_predict_list)\n"
   ]
  },
  {
   "cell_type": "code",
   "execution_count": 10,
   "id": "8b850090",
   "metadata": {},
   "outputs": [],
   "source": [
    "assert (WT_AG_ratios_bin[0] == DKO_AG_ratios_bin[0]).all()"
   ]
  },
  {
   "cell_type": "code",
   "execution_count": 11,
   "id": "42d08131",
   "metadata": {},
   "outputs": [],
   "source": [
    "def cal_MAE(AG_ratios_bin,predict_ratio_bin):\n",
    "    mae=np.abs(np.asarray([np.median(x) for x in AG_ratios_bin])-np.asarray([np.median(x) for x in predict_ratio_bin])).mean()\n",
    "    return mae"
   ]
  },
  {
   "cell_type": "code",
   "execution_count": 12,
   "id": "fc5c0019",
   "metadata": {},
   "outputs": [],
   "source": [
    "mae = cal_MAE(WT_AG_ratios_bin,WT_predict_ratio_bin)"
   ]
  },
  {
   "cell_type": "code",
   "execution_count": 13,
   "id": "a4c14856",
   "metadata": {},
   "outputs": [
    {
     "data": {
      "text/plain": [
       "0.07986531986531986"
      ]
     },
     "execution_count": 13,
     "metadata": {},
     "output_type": "execute_result"
    }
   ],
   "source": [
    "mae"
   ]
  },
  {
   "cell_type": "code",
   "execution_count": 20,
   "id": "fe321c40",
   "metadata": {},
   "outputs": [
    {
     "data": {
      "text/plain": [
       "0.038493198227449864"
      ]
     },
     "execution_count": 20,
     "metadata": {},
     "output_type": "execute_result"
    }
   ],
   "source": [
    "np.mean(DKO_predict_list)"
   ]
  },
  {
   "cell_type": "code",
   "execution_count": 14,
   "id": "1b1e9c84",
   "metadata": {},
   "outputs": [
    {
     "name": "stderr",
     "output_type": "stream",
     "text": [
      "findfont: Font family 'Arial' not found.\n",
      "findfont: Font family 'Arial' not found.\n",
      "findfont: Font family 'Arial' not found.\n",
      "findfont: Font family 'Arial' not found.\n",
      "findfont: Font family 'Arial' not found.\n",
      "findfont: Font family 'Arial' not found.\n",
      "findfont: Font family 'Arial' not found.\n",
      "findfont: Font family 'Arial' not found.\n",
      "findfont: Font family 'Arial' not found.\n",
      "findfont: Font family 'Arial' not found.\n",
      "findfont: Font family 'Arial' not found.\n",
      "findfont: Font family 'Arial' not found.\n",
      "findfont: Font family 'Arial' not found.\n",
      "findfont: Font family 'Arial' not found.\n",
      "findfont: Font family 'Arial' not found.\n",
      "findfont: Font family 'Arial' not found.\n",
      "findfont: Font family 'Arial' not found.\n",
      "findfont: Font family 'Arial' not found.\n",
      "findfont: Font family 'Arial' not found.\n",
      "findfont: Font family 'Arial' not found.\n",
      "findfont: Font family 'Arial' not found.\n",
      "findfont: Font family 'Arial' not found.\n",
      "findfont: Font family 'Arial' not found.\n",
      "findfont: Font family 'Arial' not found.\n",
      "findfont: Font family 'Arial' not found.\n",
      "findfont: Font family 'Arial' not found.\n",
      "findfont: Font family 'Arial' not found.\n",
      "findfont: Font family 'Arial' not found.\n",
      "findfont: Font family 'Arial' not found.\n",
      "findfont: Font family 'Arial' not found.\n",
      "findfont: Font family 'Arial' not found.\n",
      "findfont: Font family 'Arial' not found.\n",
      "findfont: Font family 'Arial' not found.\n",
      "findfont: Font family 'Arial' not found.\n",
      "findfont: Font family 'Arial' not found.\n",
      "findfont: Font family 'Arial' not found.\n",
      "findfont: Font family 'Arial' not found.\n",
      "findfont: Font family 'Arial' not found.\n",
      "findfont: Font family 'Arial' not found.\n",
      "findfont: Font family 'Arial' not found.\n",
      "findfont: Font family 'Arial' not found.\n",
      "findfont: Font family 'Arial' not found.\n",
      "findfont: Font family 'Arial' not found.\n",
      "findfont: Font family 'Arial' not found.\n",
      "findfont: Font family 'Arial' not found.\n",
      "findfont: Font family 'Arial' not found.\n",
      "findfont: Font family 'Arial' not found.\n",
      "findfont: Font family 'Arial' not found.\n",
      "findfont: Font family 'Arial' not found.\n",
      "findfont: Font family 'Arial' not found.\n",
      "findfont: Font family 'Arial' not found.\n",
      "findfont: Font family 'Arial' not found.\n",
      "findfont: Font family 'Arial' not found.\n",
      "findfont: Font family 'Arial' not found.\n",
      "findfont: Font family 'Arial' not found.\n",
      "findfont: Font family 'Arial' not found.\n",
      "findfont: Font family 'Arial' not found.\n",
      "findfont: Font family 'Arial' not found.\n"
     ]
    },
    {
     "data": {
      "text/plain": [
       "<Figure size 2000x2000 with 0 Axes>"
      ]
     },
     "metadata": {},
     "output_type": "display_data"
    },
    {
     "name": "stderr",
     "output_type": "stream",
     "text": [
      "findfont: Font family 'Arial' not found.\n",
      "findfont: Font family 'Arial' not found.\n",
      "findfont: Font family 'Arial' not found.\n",
      "findfont: Font family 'Arial' not found.\n",
      "findfont: Font family 'Arial' not found.\n",
      "findfont: Font family 'Arial' not found.\n",
      "findfont: Font family 'Arial' not found.\n",
      "findfont: Font family 'Arial' not found.\n",
      "findfont: Font family 'Arial' not found.\n",
      "findfont: Font family 'Arial' not found.\n",
      "findfont: Font family 'Arial' not found.\n",
      "findfont: Font family 'Arial' not found.\n",
      "findfont: Font family 'Arial' not found.\n",
      "findfont: Font family 'Arial' not found.\n",
      "findfont: Font family 'Arial' not found.\n",
      "findfont: Font family 'Arial' not found.\n",
      "findfont: Font family 'Arial' not found.\n",
      "findfont: Font family 'Arial' not found.\n",
      "findfont: Font family 'Arial' not found.\n",
      "findfont: Font family 'Arial' not found.\n",
      "findfont: Font family 'Arial' not found.\n",
      "findfont: Font family 'Arial' not found.\n",
      "findfont: Font family 'Arial' not found.\n",
      "findfont: Font family 'Arial' not found.\n",
      "findfont: Font family 'Arial' not found.\n",
      "findfont: Font family 'Arial' not found.\n",
      "findfont: Font family 'Arial' not found.\n",
      "findfont: Font family 'Arial' not found.\n",
      "findfont: Font family 'Arial' not found.\n",
      "findfont: Font family 'Arial' not found.\n",
      "findfont: Font family 'Arial' not found.\n",
      "findfont: Font family 'Arial' not found.\n",
      "findfont: Font family 'Arial' not found.\n",
      "findfont: Font family 'Arial' not found.\n",
      "findfont: Font family 'Arial' not found.\n",
      "findfont: Font family 'Arial' not found.\n",
      "findfont: Font family 'Arial' not found.\n",
      "findfont: Font family 'Arial' not found.\n",
      "findfont: Font family 'Arial' not found.\n",
      "findfont: Font family 'Arial' not found.\n",
      "findfont: Font family 'Arial' not found.\n",
      "findfont: Font family 'Arial' not found.\n",
      "findfont: Font family 'Arial' not found.\n",
      "findfont: Font family 'Arial' not found.\n",
      "findfont: Font family 'Arial' not found.\n",
      "findfont: Font family 'Arial' not found.\n",
      "findfont: Font family 'Arial' not found.\n",
      "findfont: Font family 'Arial' not found.\n",
      "findfont: Font family 'Arial' not found.\n",
      "findfont: Font family 'Arial' not found.\n",
      "findfont: Font family 'Arial' not found.\n",
      "findfont: Font family 'Arial' not found.\n",
      "findfont: Font family 'Arial' not found.\n"
     ]
    },
    {
     "data": {
      "image/png": "[encoded data removed]",
      "text/plain": [
       "<Figure size 800x800 with 1 Axes>"
      ]
     },
     "metadata": {},
     "output_type": "display_data"
    }
   ],
   "source": [
    "import matplotlib.pyplot as plt\n",
    "from matplotlib import colors\n",
    "import matplotlib as mpl\n",
    "plt.style.use('ggplot')\n",
    "plt.style.use('~/tidyplot.mplstyle')\n",
    "colors=['#42a5f5','#66bb6a','#ffb74d','#81c784']\n",
    "second_colors =['#1565c0','#2e7d32','#ef6c00','#81c784']\n",
    "plt.clf()\n",
    "mpl.rcParams['figure.figsize'] = 2,2\n",
    "f, ax2 = plt.subplots(1, 1)\n",
    "plt.subplots_adjust(wspace=None, hspace=0.4)\n",
    "\n",
    "num_methods = 3\n",
    "offset = binsize/num_methods/2+binsize/num_methods/2\n",
    "error = [np.std(x) for x in WT_predict_ratio_bin]\n",
    "\n",
    "ax2.bar([binsize*i+offset for i in range(num_bins)], [np.mean(x) for x in WT_predict_ratio_bin],   yerr=error, width=binsize/num_methods,align='center', ecolor='black', capsize=10,error_kw=dict(lw=0.5, capsize=1, capthick=0.8),label=\"Wild type HEK293T\",color=colors[0])\n",
    "error = [np.std(x) for x in DKO_predict_ratio_bin]\n",
    "ax2.bar([binsize*i+binsize/num_methods+offset for i in range(num_bins)], [np.mean(x) for x in DKO_predict_ratio_bin],  yerr=error, width=binsize/num_methods,align='center', ecolor='black', capsize=10,error_kw=dict(lw=0.5, capsize=1, capthick=0.8),label=\"dKO HEK293T\",color=colors[2])\n",
    "\n",
    "ax2.set_xlabel('Expected A-to-I ratio') #\\nTotal number of candidate sites='+str(len(coverage))+\"(>\"+str(coverage_cutoff)+\":\"+str(hi_coverage_site_num)+\")\")\n",
    "ax2.set_ylabel('Estimated A-to-I ratio')\n",
    "ax2.set_xticks(np.arange(0,1+binsize,binsize))\n",
    "ax2.set_yticks(np.arange(0,1+binsize,binsize))\n",
    "ax2.set(xlim=(0, 1), ylim=(0, 1))\n",
    "ax2.get_xaxis().set_visible(True)\n",
    "ax2.set_xticks([i/num_bins for i in range(num_bins+1)])\n",
    "# ax2.plot([0, 1], [0, 1], ls=\"--\",color=\"black\")\n",
    "ax2.xaxis.set_tick_params(labelbottom=True)\n",
    "# ax2.set_box_aspect(1)\n",
    "# plt.subplots_adjust(hspace=0.03,left=0.16)\n",
    "ax2.legend()\n",
    "#plt.show()\n",
    "\n",
    "\n",
    "\n",
    "try:\n",
    "    os.mkdir(outputfolder+\"/\"+modelname+\"/\")\n",
    "except:\n",
    "    pass\n",
    "\n",
    "\n",
    "plt.savefig(\"barplot.svg\")\n"
   ]
  },
  {
   "cell_type": "code",
   "execution_count": null,
   "id": "ce4e24ea",
   "metadata": {},
   "outputs": [],
   "source": []
  }
 ],
 "metadata": {
  "kernelspec": {
   "display_name": "ReDD_plot [/nfs/turbo/umms-kinfai/haorli/envs/ReDD_plot/]",
   "language": "python",
   "name": "mamba_redd_plot"
  },
  "language_info": {
   "codemirror_mode": {
    "name": "ipython",
    "version": 3
   },
   "file_extension": ".py",
   "mimetype": "text/x-python",
   "name": "python",
   "nbconvert_exporter": "python",
   "pygments_lexer": "ipython3",
   "version": "3.11.5"
  }
 },
 "nbformat": 4,
 "nbformat_minor": 5
}
