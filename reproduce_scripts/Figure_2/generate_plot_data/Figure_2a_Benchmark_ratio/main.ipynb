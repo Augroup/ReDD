{
 "cells": [
  {
   "cell_type": "code",
   "execution_count": 1,
   "id": "f0dad876",
   "metadata": {},
   "outputs": [],
   "source": [
    "import numpy as np\n",
    "from sklearn.cluster import SpectralClustering,KMeans\n",
    "from sklearn.metrics import average_precision_score\n",
    "from sklearn.metrics import roc_auc_score\n",
    "from sklearn.metrics import roc_curve\n",
    "from sklearn.metrics import precision_recall_curve\n",
    "from sklearn.metrics import matthews_corrcoef,accuracy_score,precision_score,recall_score,confusion_matrix\n",
    "from scipy.stats import pearsonr\n",
    "import matplotlib.pyplot as plt\n",
    "import os"
   ]
  },
  {
   "cell_type": "code",
   "execution_count": 2,
   "id": "f6e3250f",
   "metadata": {},
   "outputs": [],
   "source": [
    "outputfolder=\"figures/\"\n",
    "\n",
    "# HL: evaluate this sample\n",
    "datatype=\"HEK293T_WT_directRNA\" \n",
    "# HL: use this model\n",
    "modelname=\"hg38retrain_HEK293T_KO1_chrsplitHEK293T_WT_directRNA_epochs1_100_epochs2_88\" \n",
    "os.makedirs(outputfolder+\"/\"+modelname+\"/\",exist_ok = True)"
   ]
  },
  {
   "cell_type": "code",
   "execution_count": 3,
   "id": "fafa7f0d",
   "metadata": {},
   "outputs": [],
   "source": [
    "# HL: transfer from dataden \"/umms-kinfai/duolin/ying/reditools2_candidates/\"\n",
    "hash_candidat={}\n",
    "hash_candidat['AFG-H1_directRNA']='H1-AFG.candidate_sites.tab'\n",
    "hash_candidat['AFG-H9_directRNA']='H9-AFG.candidate_sites.tab'\n",
    "hash_candidat[\"PGC-H1_directRNA\"]='H1-PGC.candidate_sites.tab'\n",
    "hash_candidat[\"DE-H1_directRNA\"]='H1-DE.candidate_sites.tab'\n",
    "hash_candidat[\"DE-H9_directRNA\"]='H9-DE.candidate_sites.tab'\n",
    "hash_candidat[\"GM12878_directRNA\"]='GM12878.candidate_sites.tab'\n",
    "hash_candidat[\"H1-hESC_directRNA\"]='H1-hESC.candidate_sites.tab'\n",
    "hash_candidat[\"H9-hESC_directRNA\"]='H9-hESC.candidate_sites.tab'\n",
    "hash_candidat['HEK293T_DKO_directRNA']='HEK293T_WT.candidate_sites.tab'\n",
    "hash_candidat[\"HEK293T_WT_directRNA\"]='HEK293T_WT.candidate_sites.tab'\n",
    "hash_candidat[\"HEK_WT_pass\"]='HEK293T_WT.candidate_sites.tab'\n",
    "candidatefile=\"/nfs/turbo/umms-kinfai/haorli/20240314_ReDD_result_data/figure2a/reditools2_candidates/\"+hash_candidat[datatype]\n"
   ]
  },
  {
   "cell_type": "code",
   "execution_count": 4,
   "id": "2fce2f23",
   "metadata": {},
   "outputs": [],
   "source": [
    "AG_ratio_per_site={}\n",
    "shortreadcoverage={}\n",
    "input = open(candidatefile,'r')\n",
    "for line in input:\n",
    "    chr_ = line.split()[0]\n",
    "    pos_ = line.split()[1]\n",
    "    chrpos=chr_+\"-\"+pos_\n",
    "    AG_ratio_per_site[chrpos]=float(line.split(\"\\t\")[3])\n",
    "    shortreadcoverage[chrpos]=float(line.split(\"\\t\")[4])"
   ]
  },
  {
   "cell_type": "code",
   "execution_count": 5,
   "id": "e7160662",
   "metadata": {},
   "outputs": [],
   "source": [
    "long_reads_min_coverage = longread_coverage_cutoff = 5"
   ]
  },
  {
   "cell_type": "code",
   "execution_count": 6,
   "id": "6e6ce897",
   "metadata": {},
   "outputs": [],
   "source": [
    "#REDD\n",
    "featuredim=5\n",
    "windowsize=9\n",
    "inputfolder=\"/nfs/turbo/umms-kinfai/haorli/20240314_ReDD_result_data/figure2a/REDD/\"\n",
    "modelname = 'hg38retrain_HEK293T_KO1_chrsplitHEK293T_WT_directRNA_epochs1_100_epochs2_88'\n",
    "filename=inputfolder+\"/\"+modelname+\"/test_\"+datatype+\"_onlycandidate.txt\"\n",
    "\n",
    "\n",
    "input = open(filename)\n",
    "pos_coverage={}\n",
    "coverage = {}\n",
    "cutoff = 0.5#0.5\n",
    "for line in input:\n",
    "    score=float(line.split(\"\\t\")[-1])\n",
    "    if score>=cutoff:\n",
    "       predict_label=1\n",
    "    else:\n",
    "       predict_label=0\n",
    "    \n",
    "    transid= line.split(\"\\t\")[2]\n",
    "    transpos = line.split(\"\\t\")[3]\n",
    "    chrpos = transid+\"-\"+transpos\n",
    "    \n",
    "    if chrpos not in pos_coverage.keys():\n",
    "        pos_coverage[chrpos]=predict_label\n",
    "        coverage[chrpos]=1\n",
    "    else:\n",
    "        pos_coverage[chrpos]+=predict_label\n",
    "        coverage[chrpos]+=1\n",
    "\n",
    "REDD_predict_value_all={}\n",
    "for site in AG_ratio_per_site:   \n",
    "     if site in pos_coverage:\n",
    "          if coverage[site] >= long_reads_min_coverage:\n",
    "              REDD_predict_value_all[site]=float(pos_coverage[site]/coverage[site])"
   ]
  },
  {
   "cell_type": "code",
   "execution_count": null,
   "id": "9aef58d1",
   "metadata": {},
   "outputs": [],
   "source": []
  },
  {
   "cell_type": "code",
   "execution_count": 7,
   "id": "8b3986cd",
   "metadata": {},
   "outputs": [],
   "source": [
    "#Dinopore\n",
    "inputfolderdinopore=\"/nfs/turbo/umms-kinfai/haorli/20240314_ReDD_result_data/figure2a/Dinopore/\"\n",
    "\n",
    "filenames=[\"Testinputschr3chr11.output_prediction_CNN_class0.txt\",\"Testinputschr3chr11.output_prediction_CNN_class1.txt\",\"Testinputschr3chr11.output_prediction_CNN_class2.txt\"]\n",
    "\n",
    "Dinopore_predict_value_all={}\n",
    "for file in filenames:\n",
    "    input=open(inputfolderdinopore+\"/\"+file)\n",
    "    for line in input:\n",
    "        if \"contig\" not in line:\n",
    "            chr_=line.split()[0]\n",
    "            pos_=line.split()[1]\n",
    "            poskey=chr_+\"-\"+pos_\n",
    "                \n",
    "            if len(line.split())==11:\n",
    "                 Dinopore_predict_value_all[poskey]=float(line.split()[10])\n",
    "            else:\n",
    "                 Dinopore_predict_value_all[poskey]=0"
   ]
  },
  {
   "cell_type": "code",
   "execution_count": 8,
   "id": "a9661303",
   "metadata": {},
   "outputs": [],
   "source": [
    "inputfolderdeepedit = \"/nfs/turbo/umms-kinfai/haorli/20240314_ReDD_result_data/figure2a/DeepEdit/Editing_ratio_genome.txt\"\n",
    "\n",
    "DeepEdit_predict_value_all={}\n",
    "for file in filenames:\n",
    "    input=open(inputfolderdeepedit)\n",
    "    for line in input:\n",
    "            poskey=line.split()[0]\n",
    "            DeepEdit_predict_value_all[poskey]=float(line.split()[2])/float(line.split()[1])"
   ]
  },
  {
   "cell_type": "code",
   "execution_count": 9,
   "id": "1a4e3ce0",
   "metadata": {},
   "outputs": [],
   "source": [
    "from scipy.stats import pearsonr\n",
    "#only use commonsite\n",
    "commonsite={} #1029\n",
    "REDD_true_list=[]\n",
    "REDD_predict_list = []\n",
    "DeepEdit_true_list=[]\n",
    "DeepEdit_predict_list=[]\n",
    "Dinopore_true_list=[]\n",
    "Dinopore_predict_list=[]\n",
    "coords_list = []\n",
    "# Dinopore_predict_value_all = REDD_predict_value_all\n",
    "# DeepEdit_predict_value_all = REDD_predict_value_all\n",
    "for key in Dinopore_predict_value_all:#1259\n",
    "  if key in REDD_predict_value_all: #1242\n",
    "      if key in DeepEdit_predict_value_all: #1058\n",
    "          commonsite[key]=1\n",
    "          REDD_true_list.append(AG_ratio_per_site[key])\n",
    "          #REDD_predict_list.append(REDD_predict_value_all[key])\n",
    "          REDD_predict_list.append(REDD_predict_value_all[key])\n",
    "          \n",
    "          Dinopore_true_list.append(AG_ratio_per_site[key])\n",
    "          Dinopore_predict_list.append(Dinopore_predict_value_all[key])\n",
    "          \n",
    "          DeepEdit_true_list.append(AG_ratio_per_site[key])\n",
    "          DeepEdit_predict_list.append(DeepEdit_predict_value_all[key])\n",
    "          coords_list.append(key)\n",
    "\n",
    "REDD_predict_list=np.asarray(REDD_predict_list)\n",
    "#FPR=len(np.where(predict_ratio_list>0.2)[0])/len(predict_ratio_list)\n",
    "#print(FPR)\n",
    "REDD_true_list=np.asarray(REDD_true_list)\n",
    "#len(predict_ratio_list) \n",
    "DeepEdit_predict_list=np.asarray(DeepEdit_predict_list)\n",
    "Dinopore_predict_list=np.asarray(Dinopore_predict_list)\n",
    "Dinopore_true_list=np.asarray(Dinopore_true_list)\n",
    "DeepEdit_true_list=np.asarray(DeepEdit_true_list)"
   ]
  },
  {
   "cell_type": "code",
   "execution_count": 10,
   "id": "730b4257",
   "metadata": {},
   "outputs": [],
   "source": [
    "import pandas as pd"
   ]
  },
  {
   "cell_type": "code",
   "execution_count": 28,
   "id": "d72f7c9f",
   "metadata": {},
   "outputs": [],
   "source": [
    "# export to csv\n",
    "df = pd.DataFrame([coords_list,REDD_true_list,REDD_predict_list,Dinopore_predict_list,DeepEdit_predict_list]).T\n",
    "df.columns = ['Site','truth','ReDD','Dinopore','DeepEdit']\n",
    "df.to_csv('plot_data/site_ratio.tsv',sep='\\t',index=False)"
   ]
  },
  {
   "cell_type": "code",
   "execution_count": 29,
   "id": "0cf0d6a4",
   "metadata": {},
   "outputs": [
    {
     "data": {
      "text/html": [
       "<div>\n",
       "<style scoped>\n",
       "    .dataframe tbody tr th:only-of-type {\n",
       "        vertical-align: middle;\n",
       "    }\n",
       "\n",
       "    .dataframe tbody tr th {\n",
       "        vertical-align: top;\n",
       "    }\n",
       "\n",
       "    .dataframe thead th {\n",
       "        text-align: right;\n",
       "    }\n",
       "</style>\n",
       "<table border=\"1\" class=\"dataframe\">\n",
       "  <thead>\n",
       "    <tr style=\"text-align: right;\">\n",
       "      <th></th>\n",
       "      <th>Site</th>\n",
       "      <th>truth</th>\n",
       "      <th>ReDD</th>\n",
       "      <th>Dinopore</th>\n",
       "      <th>DeepEdit</th>\n",
       "    </tr>\n",
       "  </thead>\n",
       "  <tbody>\n",
       "    <tr>\n",
       "      <th>0</th>\n",
       "      <td>chr11-108365794</td>\n",
       "      <td>0.18</td>\n",
       "      <td>0.0</td>\n",
       "      <td>0.0</td>\n",
       "      <td>0.0</td>\n",
       "    </tr>\n",
       "    <tr>\n",
       "      <th>1</th>\n",
       "      <td>chr11-108365869</td>\n",
       "      <td>0.12</td>\n",
       "      <td>0.115385</td>\n",
       "      <td>0.0</td>\n",
       "      <td>0.0</td>\n",
       "    </tr>\n",
       "    <tr>\n",
       "      <th>2</th>\n",
       "      <td>chr11-108365978</td>\n",
       "      <td>0.08</td>\n",
       "      <td>0.04</td>\n",
       "      <td>0.0</td>\n",
       "      <td>0.12</td>\n",
       "    </tr>\n",
       "    <tr>\n",
       "      <th>3</th>\n",
       "      <td>chr11-108367226</td>\n",
       "      <td>0.21</td>\n",
       "      <td>0.015152</td>\n",
       "      <td>0.0</td>\n",
       "      <td>0.293103</td>\n",
       "    </tr>\n",
       "    <tr>\n",
       "      <th>4</th>\n",
       "      <td>chr11-111728747</td>\n",
       "      <td>0.17</td>\n",
       "      <td>0.0</td>\n",
       "      <td>0.0</td>\n",
       "      <td>0.088235</td>\n",
       "    </tr>\n",
       "    <tr>\n",
       "      <th>...</th>\n",
       "      <td>...</td>\n",
       "      <td>...</td>\n",
       "      <td>...</td>\n",
       "      <td>...</td>\n",
       "      <td>...</td>\n",
       "    </tr>\n",
       "    <tr>\n",
       "      <th>2297</th>\n",
       "      <td>chr3-9945897</td>\n",
       "      <td>0.17</td>\n",
       "      <td>0.0</td>\n",
       "      <td>0.0</td>\n",
       "      <td>0.083333</td>\n",
       "    </tr>\n",
       "    <tr>\n",
       "      <th>2298</th>\n",
       "      <td>chr3-9945900</td>\n",
       "      <td>0.08</td>\n",
       "      <td>0.0</td>\n",
       "      <td>0.0</td>\n",
       "      <td>0.333333</td>\n",
       "    </tr>\n",
       "    <tr>\n",
       "      <th>2299</th>\n",
       "      <td>chr3-9945920</td>\n",
       "      <td>0.1</td>\n",
       "      <td>0.043478</td>\n",
       "      <td>0.0</td>\n",
       "      <td>0.0</td>\n",
       "    </tr>\n",
       "    <tr>\n",
       "      <th>2300</th>\n",
       "      <td>chr3-9946031</td>\n",
       "      <td>0.07</td>\n",
       "      <td>0.333333</td>\n",
       "      <td>0.0</td>\n",
       "      <td>0.210526</td>\n",
       "    </tr>\n",
       "    <tr>\n",
       "      <th>2301</th>\n",
       "      <td>chr3-9981710</td>\n",
       "      <td>0.07</td>\n",
       "      <td>0.037037</td>\n",
       "      <td>0.0</td>\n",
       "      <td>0.37931</td>\n",
       "    </tr>\n",
       "  </tbody>\n",
       "</table>\n",
       "<p>2302 rows × 5 columns</p>\n",
       "</div>"
      ],
      "text/plain": [
       "                 Site truth      ReDD Dinopore  DeepEdit\n",
       "0     chr11-108365794  0.18       0.0      0.0       0.0\n",
       "1     chr11-108365869  0.12  0.115385      0.0       0.0\n",
       "2     chr11-108365978  0.08      0.04      0.0      0.12\n",
       "3     chr11-108367226  0.21  0.015152      0.0  0.293103\n",
       "4     chr11-111728747  0.17       0.0      0.0  0.088235\n",
       "...               ...   ...       ...      ...       ...\n",
       "2297     chr3-9945897  0.17       0.0      0.0  0.083333\n",
       "2298     chr3-9945900  0.08       0.0      0.0  0.333333\n",
       "2299     chr3-9945920   0.1  0.043478      0.0       0.0\n",
       "2300     chr3-9946031  0.07  0.333333      0.0  0.210526\n",
       "2301     chr3-9981710  0.07  0.037037      0.0   0.37931\n",
       "\n",
       "[2302 rows x 5 columns]"
      ]
     },
     "execution_count": 29,
     "metadata": {},
     "output_type": "execute_result"
    }
   ],
   "source": [
    "df"
   ]
  },
  {
   "cell_type": "code",
   "execution_count": 30,
   "id": "87123277",
   "metadata": {},
   "outputs": [],
   "source": [
    "df['ReDD_error'] = np.abs(df['ReDD']-df['truth'])\n",
    "df['Dinopore_error'] = np.abs(df['Dinopore']-df['truth'])\n",
    "df['DeepEdit_error'] = np.abs(df['DeepEdit']-df['truth'])"
   ]
  },
  {
   "cell_type": "code",
   "execution_count": 31,
   "id": "26d75b1b",
   "metadata": {},
   "outputs": [],
   "source": [
    "import scipy.stats"
   ]
  },
  {
   "cell_type": "code",
   "execution_count": 32,
   "id": "a324f5f2",
   "metadata": {},
   "outputs": [
    {
     "data": {
      "text/plain": [
       "<Axes: >"
      ]
     },
     "execution_count": 32,
     "metadata": {},
     "output_type": "execute_result"
    },
    {
     "data": {
      "image/png": "[encoded data removed]",
      "text/plain": [
       "<Figure size 640x480 with 1 Axes>"
      ]
     },
     "metadata": {},
     "output_type": "display_data"
    }
   ],
   "source": [
    "df['ReDD_error'].hist(bins=100)"
   ]
  },
  {
   "cell_type": "code",
   "execution_count": 33,
   "id": "e0f73564",
   "metadata": {},
   "outputs": [
    {
     "data": {
      "text/plain": [
       "<Axes: >"
      ]
     },
     "execution_count": 33,
     "metadata": {},
     "output_type": "execute_result"
    },
    {
     "data": {
      "image/png": "[encoded data removed]",
      "text/plain": [
       "<Figure size 640x480 with 1 Axes>"
      ]
     },
     "metadata": {},
     "output_type": "display_data"
    }
   ],
   "source": [
    "df['Dinopore_error'].hist(bins=100)"
   ]
  },
  {
   "cell_type": "code",
   "execution_count": 34,
   "id": "0f5cd933",
   "metadata": {},
   "outputs": [
    {
     "data": {
      "text/plain": [
       "WilcoxonResult(statistic=787555.5, pvalue=1.3191977859715372e-07)"
      ]
     },
     "execution_count": 34,
     "metadata": {},
     "output_type": "execute_result"
    }
   ],
   "source": [
    "scipy.stats.wilcoxon(df['ReDD_error'],df['Dinopore_error'],alternative='less')"
   ]
  },
  {
   "cell_type": "code",
   "execution_count": 35,
   "id": "876f440f",
   "metadata": {},
   "outputs": [
    {
     "data": {
      "text/plain": [
       "MannwhitneyuResult(statistic=2448163.0, pvalue=3.950522419226768e-06)"
      ]
     },
     "execution_count": 35,
     "metadata": {},
     "output_type": "execute_result"
    }
   ],
   "source": [
    "scipy.stats.mannwhitneyu(df['ReDD_error'].values.astype(float),df['Dinopore_error'].values.astype(float),alternative='less')"
   ]
  },
  {
   "cell_type": "code",
   "execution_count": 36,
   "id": "9c52d02a",
   "metadata": {},
   "outputs": [
    {
     "data": {
      "text/plain": [
       "WilcoxonResult(statistic=739245.5, pvalue=1.6192930865632275e-37)"
      ]
     },
     "execution_count": 36,
     "metadata": {},
     "output_type": "execute_result"
    }
   ],
   "source": [
    "scipy.stats.wilcoxon(df['ReDD_error'],df['DeepEdit_error'],alternative='less')"
   ]
  },
  {
   "cell_type": "code",
   "execution_count": 37,
   "id": "c93588e1",
   "metadata": {},
   "outputs": [
    {
     "data": {
      "text/plain": [
       "MannwhitneyuResult(statistic=2181617.0, pvalue=1.561078852799656e-25)"
      ]
     },
     "execution_count": 37,
     "metadata": {},
     "output_type": "execute_result"
    }
   ],
   "source": [
    "scipy.stats.mannwhitneyu(df['ReDD_error'].values.astype(float),df['DeepEdit_error'].values.astype(float),alternative='less')"
   ]
  },
  {
   "cell_type": "code",
   "execution_count": 38,
   "id": "2252ded6",
   "metadata": {},
   "outputs": [],
   "source": [
    "high_edit_df = df[df['truth'] > 0.8]"
   ]
  },
  {
   "cell_type": "code",
   "execution_count": 39,
   "id": "f21bb1d4",
   "metadata": {},
   "outputs": [
    {
     "name": "stderr",
     "output_type": "stream",
     "text": [
      "/tmp/ipykernel_1634613/4087292381.py:1: SettingWithCopyWarning: \n",
      "A value is trying to be set on a copy of a slice from a DataFrame.\n",
      "Try using .loc[row_indexer,col_indexer] = value instead\n",
      "\n",
      "See the caveats in the documentation: https://pandas.pydata.org/pandas-docs/stable/user_guide/indexing.html#returning-a-view-versus-a-copy\n",
      "  high_edit_df['ReDD_error'] = high_edit_df['ReDD']-high_edit_df['truth']\n",
      "/tmp/ipykernel_1634613/4087292381.py:2: SettingWithCopyWarning: \n",
      "A value is trying to be set on a copy of a slice from a DataFrame.\n",
      "Try using .loc[row_indexer,col_indexer] = value instead\n",
      "\n",
      "See the caveats in the documentation: https://pandas.pydata.org/pandas-docs/stable/user_guide/indexing.html#returning-a-view-versus-a-copy\n",
      "  high_edit_df['Dinopore_error'] = high_edit_df['Dinopore']-high_edit_df['truth']\n",
      "/tmp/ipykernel_1634613/4087292381.py:3: SettingWithCopyWarning: \n",
      "A value is trying to be set on a copy of a slice from a DataFrame.\n",
      "Try using .loc[row_indexer,col_indexer] = value instead\n",
      "\n",
      "See the caveats in the documentation: https://pandas.pydata.org/pandas-docs/stable/user_guide/indexing.html#returning-a-view-versus-a-copy\n",
      "  high_edit_df['DeepEdit_error'] = high_edit_df['DeepEdit']-high_edit_df['truth']\n"
     ]
    }
   ],
   "source": [
    "high_edit_df['ReDD_error'] = high_edit_df['ReDD']-high_edit_df['truth']\n",
    "high_edit_df['Dinopore_error'] = high_edit_df['Dinopore']-high_edit_df['truth']\n",
    "high_edit_df['DeepEdit_error'] = high_edit_df['DeepEdit']-high_edit_df['truth']"
   ]
  },
  {
   "cell_type": "code",
   "execution_count": 42,
   "id": "a594b49b",
   "metadata": {},
   "outputs": [
    {
     "data": {
      "text/plain": [
       "-0.2965217391304348"
      ]
     },
     "execution_count": 42,
     "metadata": {},
     "output_type": "execute_result"
    }
   ],
   "source": [
    "high_edit_df['ReDD_error'].median()"
   ]
  },
  {
   "cell_type": "code",
   "execution_count": 43,
   "id": "3b8d7de6",
   "metadata": {},
   "outputs": [
    {
     "data": {
      "text/plain": [
       "-0.46761624763890497"
      ]
     },
     "execution_count": 43,
     "metadata": {},
     "output_type": "execute_result"
    }
   ],
   "source": [
    "high_edit_df['Dinopore_error'].median()"
   ]
  },
  {
   "cell_type": "code",
   "execution_count": 40,
   "id": "422d75b0",
   "metadata": {},
   "outputs": [
    {
     "name": "stderr",
     "output_type": "stream",
     "text": [
      "/nfs/turbo/umms-kinfai/haorli/envs/ReDD_plot/lib/python3.11/site-packages/scipy/stats/_morestats.py:3337: UserWarning: Exact p-value calculation does not work if there are zeros. Switching to normal approximation.\n",
      "  warnings.warn(\"Exact p-value calculation does not work if there are \"\n"
     ]
    },
    {
     "data": {
      "text/plain": [
       "WilcoxonResult(statistic=286.0, pvalue=0.13557759885441611)"
      ]
     },
     "execution_count": 40,
     "metadata": {},
     "output_type": "execute_result"
    }
   ],
   "source": [
    "scipy.stats.wilcoxon(high_edit_df['ReDD_error'],high_edit_df['Dinopore_error'],alternative='greater')"
   ]
  },
  {
   "cell_type": "code",
   "execution_count": 45,
   "id": "b5c06fbd",
   "metadata": {},
   "outputs": [
    {
     "name": "stderr",
     "output_type": "stream",
     "text": [
      "/nfs/turbo/umms-kinfai/haorli/envs/ReDD_plot/lib/python3.11/site-packages/scipy/stats/_morestats.py:3337: UserWarning: Exact p-value calculation does not work if there are zeros. Switching to normal approximation.\n",
      "  warnings.warn(\"Exact p-value calculation does not work if there are \"\n"
     ]
    },
    {
     "data": {
      "text/plain": [
       "WilcoxonResult(statistic=356.0, pvalue=0.005539614549909053)"
      ]
     },
     "execution_count": 45,
     "metadata": {},
     "output_type": "execute_result"
    }
   ],
   "source": [
    "scipy.stats.wilcoxon(high_edit_df['ReDD_error'],high_edit_df['DeepEdit_error'],alternative='greater')"
   ]
  },
  {
   "cell_type": "code",
   "execution_count": 13,
   "id": "eef955dd",
   "metadata": {},
   "outputs": [],
   "source": [
    "num_bins = 5\n",
    "binsize=1/num_bins\n",
    "def binize_list(true_list,predict_list):\n",
    "    ratio_list = np.arange(0,1,binsize) #np.random.uniform(0.0, 1.0, 30)\n",
    "    ratio_list.sort()\n",
    "    sample_size=[]\n",
    "    AG_ratios_bin=[]\n",
    "    predict_ratio_bin = []\n",
    "    ratio_bin_list=[]\n",
    "    for index in range(len(ratio_list)):\n",
    "        start = ratio_list[index]\n",
    "        end = start+binsize\n",
    "        index_start_end = np.where((true_list<=end) &(true_list>start))[0]\n",
    "        if(len(index_start_end)>1):\n",
    "            ratio_bin_list.append(start)\n",
    "            AG_ratios_bin.append(true_list[index_start_end])\n",
    "            predict_ratio_bin.append(predict_list[index_start_end])\n",
    "            sample_size.append(len(predict_list[index_start_end]))\n",
    "    return AG_ratios_bin,predict_ratio_bin,sample_size\n"
   ]
  },
  {
   "cell_type": "code",
   "execution_count": 14,
   "id": "66a98b67",
   "metadata": {},
   "outputs": [],
   "source": [
    "AG_ratios_bin,predict_ratio_bin,sample_size = binize_list(REDD_true_list,REDD_predict_list)\n",
    "Dinopore_AG_ratios_bin,Dinopore_predict_ratio_bin,sample_size = binize_list(Dinopore_true_list,Dinopore_predict_list)\n",
    "DeepEdit_AG_ratios_bin,DeepEdit_predict_ratio_bin,sample_size = binize_list(DeepEdit_true_list,DeepEdit_predict_list)"
   ]
  },
  {
   "cell_type": "code",
   "execution_count": 14,
   "id": "196eeb2e",
   "metadata": {},
   "outputs": [],
   "source": [
    "def cal_MAE(AG_ratios_bin,predict_ratio_bin):\n",
    "    mae=np.abs(np.asarray([np.median(x) for x in AG_ratios_bin])-np.asarray([np.median(x) for x in predict_ratio_bin])).mean()\n",
    "    return mae"
   ]
  },
  {
   "cell_type": "code",
   "execution_count": 16,
   "id": "9576ed00",
   "metadata": {},
   "outputs": [],
   "source": [
    "mae = cal_MAE(AG_ratios_bin,predict_ratio_bin)\n",
    "Dinopore_mae = cal_MAE(Dinopore_AG_ratios_bin,Dinopore_predict_ratio_bin)\n",
    "DeepEdit_mae = cal_MAE(DeepEdit_AG_ratios_bin,DeepEdit_predict_ratio_bin)"
   ]
  },
  {
   "cell_type": "code",
   "execution_count": 17,
   "id": "506ea45f",
   "metadata": {},
   "outputs": [],
   "source": [
    "# export to csv\n",
    "df = pd.DataFrame([mae,Dinopore_mae,DeepEdit_mae]).T\n",
    "df.columns = ['ReDD','Dinopore','DeepEdit']\n",
    "df.to_csv('plot_data/MAE.tsv',sep='\\t',index=False)"
   ]
  },
  {
   "cell_type": "code",
   "execution_count": 18,
   "id": "01646766",
   "metadata": {},
   "outputs": [
    {
     "data": {
      "text/html": [
       "<div>\n",
       "<style scoped>\n",
       "    .dataframe tbody tr th:only-of-type {\n",
       "        vertical-align: middle;\n",
       "    }\n",
       "\n",
       "    .dataframe tbody tr th {\n",
       "        vertical-align: top;\n",
       "    }\n",
       "\n",
       "    .dataframe thead th {\n",
       "        text-align: right;\n",
       "    }\n",
       "</style>\n",
       "<table border=\"1\" class=\"dataframe\">\n",
       "  <thead>\n",
       "    <tr style=\"text-align: right;\">\n",
       "      <th></th>\n",
       "      <th>ReDD</th>\n",
       "      <th>Dinopore</th>\n",
       "      <th>DeepEdit</th>\n",
       "    </tr>\n",
       "  </thead>\n",
       "  <tbody>\n",
       "    <tr>\n",
       "      <th>0</th>\n",
       "      <td>0.161233</td>\n",
       "      <td>0.216326</td>\n",
       "      <td>0.301602</td>\n",
       "    </tr>\n",
       "  </tbody>\n",
       "</table>\n",
       "</div>"
      ],
      "text/plain": [
       "       ReDD  Dinopore  DeepEdit\n",
       "0  0.161233  0.216326  0.301602"
      ]
     },
     "execution_count": 18,
     "metadata": {},
     "output_type": "execute_result"
    }
   ],
   "source": [
    "df"
   ]
  },
  {
   "cell_type": "code",
   "execution_count": 19,
   "id": "84b29cbf",
   "metadata": {},
   "outputs": [
    {
     "name": "stderr",
     "output_type": "stream",
     "text": [
      "findfont: Font family 'Arial' not found.\n",
      "findfont: Font family 'Arial' not found.\n",
      "findfont: Font family 'Arial' not found.\n",
      "findfont: Font family 'Arial' not found.\n",
      "findfont: Font family 'Arial' not found.\n",
      "findfont: Font family 'Arial' not found.\n",
      "findfont: Font family 'Arial' not found.\n",
      "findfont: Font family 'Arial' not found.\n",
      "findfont: Font family 'Arial' not found.\n",
      "findfont: Font family 'Arial' not found.\n",
      "findfont: Font family 'Arial' not found.\n",
      "findfont: Font family 'Arial' not found.\n",
      "findfont: Font family 'Arial' not found.\n",
      "findfont: Font family 'Arial' not found.\n",
      "findfont: Font family 'Arial' not found.\n",
      "findfont: Font family 'Arial' not found.\n",
      "findfont: Font family 'Arial' not found.\n",
      "findfont: Font family 'Arial' not found.\n",
      "findfont: Font family 'Arial' not found.\n",
      "findfont: Font family 'Arial' not found.\n",
      "findfont: Font family 'Arial' not found.\n",
      "findfont: Font family 'Arial' not found.\n",
      "findfont: Font family 'Arial' not found.\n",
      "findfont: Font family 'Arial' not found.\n",
      "findfont: Font family 'Arial' not found.\n",
      "findfont: Font family 'Arial' not found.\n",
      "findfont: Font family 'Arial' not found.\n",
      "findfont: Font family 'Arial' not found.\n",
      "findfont: Font family 'Arial' not found.\n",
      "findfont: Font family 'Arial' not found.\n",
      "findfont: Font family 'Arial' not found.\n",
      "findfont: Font family 'Arial' not found.\n",
      "findfont: Font family 'Arial' not found.\n",
      "findfont: Font family 'Arial' not found.\n",
      "findfont: Font family 'Arial' not found.\n",
      "findfont: Font family 'Arial' not found.\n",
      "findfont: Font family 'Arial' not found.\n",
      "findfont: Font family 'Arial' not found.\n",
      "findfont: Font family 'Arial' not found.\n",
      "findfont: Font family 'Arial' not found.\n",
      "findfont: Font family 'Arial' not found.\n",
      "findfont: Font family 'Arial' not found.\n",
      "findfont: Font family 'Arial' not found.\n",
      "findfont: Font family 'Arial' not found.\n",
      "findfont: Font family 'Arial' not found.\n",
      "findfont: Font family 'Arial' not found.\n",
      "findfont: Font family 'Arial' not found.\n",
      "findfont: Font family 'Arial' not found.\n",
      "findfont: Font family 'Arial' not found.\n",
      "findfont: Font family 'Arial' not found.\n",
      "findfont: Font family 'Arial' not found.\n",
      "findfont: Font family 'Arial' not found.\n",
      "findfont: Font family 'Arial' not found.\n",
      "findfont: Font family 'Arial' not found.\n",
      "findfont: Font family 'Arial' not found.\n",
      "findfont: Font family 'Arial' not found.\n",
      "findfont: Font family 'Arial' not found.\n",
      "findfont: Font family 'Arial' not found.\n",
      "findfont: Font family 'Arial' not found.\n",
      "findfont: Font family 'Arial' not found.\n",
      "findfont: Font family 'Arial' not found.\n",
      "findfont: Font family 'Arial' not found.\n",
      "findfont: Font family 'Arial' not found.\n",
      "findfont: Font family 'Arial' not found.\n",
      "findfont: Font family 'Arial' not found.\n",
      "findfont: Font family 'Arial' not found.\n",
      "findfont: Font family 'Arial' not found.\n",
      "findfont: Font family 'Arial' not found.\n",
      "findfont: Font family 'Arial' not found.\n",
      "findfont: Font family 'Arial' not found.\n",
      "findfont: Font family 'Arial' not found.\n",
      "findfont: Font family 'Arial' not found.\n",
      "findfont: Font family 'Arial' not found.\n",
      "findfont: Font family 'Arial' not found.\n",
      "findfont: Font family 'Arial' not found.\n",
      "findfont: Font family 'Arial' not found.\n",
      "findfont: Font family 'Arial' not found.\n",
      "findfont: Font family 'Arial' not found.\n",
      "findfont: Font family 'Arial' not found.\n",
      "findfont: Font family 'Arial' not found.\n",
      "findfont: Font family 'Arial' not found.\n",
      "findfont: Font family 'Arial' not found.\n",
      "findfont: Font family 'Arial' not found.\n",
      "findfont: Font family 'Arial' not found.\n",
      "findfont: Font family 'Arial' not found.\n",
      "findfont: Font family 'Arial' not found.\n",
      "findfont: Font family 'Arial' not found.\n",
      "findfont: Font family 'Arial' not found.\n",
      "findfont: Font family 'Arial' not found.\n",
      "findfont: Font family 'Arial' not found.\n",
      "findfont: Font family 'Arial' not found.\n",
      "findfont: Font family 'Arial' not found.\n",
      "findfont: Font family 'Arial' not found.\n",
      "findfont: Font family 'Arial' not found.\n",
      "findfont: Font family 'Arial' not found.\n",
      "findfont: Font family 'Arial' not found.\n",
      "findfont: Font family 'Arial' not found.\n",
      "findfont: Font family 'Arial' not found.\n",
      "findfont: Font family 'Arial' not found.\n",
      "findfont: Font family 'Arial' not found.\n",
      "findfont: Font family 'Arial' not found.\n",
      "findfont: Font family 'Arial' not found.\n",
      "findfont: Font family 'Arial' not found.\n",
      "findfont: Font family 'Arial' not found.\n",
      "findfont: Font family 'Arial' not found.\n",
      "findfont: Font family 'Arial' not found.\n",
      "findfont: Font family 'Arial' not found.\n",
      "findfont: Font family 'Arial' not found.\n",
      "findfont: Font family 'Arial' not found.\n",
      "findfont: Font family 'Arial' not found.\n",
      "findfont: Font family 'Arial' not found.\n",
      "findfont: Font family 'Arial' not found.\n",
      "findfont: Font family 'Arial' not found.\n",
      "findfont: Font family 'Arial' not found.\n",
      "findfont: Font family 'Arial' not found.\n",
      "findfont: Font family 'Arial' not found.\n",
      "findfont: Font family 'Arial' not found.\n",
      "findfont: Font family 'Arial' not found.\n",
      "findfont: Font family 'Arial' not found.\n",
      "findfont: Font family 'Arial' not found.\n",
      "findfont: Font family 'Arial' not found.\n",
      "findfont: Font family 'Arial' not found.\n",
      "findfont: Font family 'Arial' not found.\n",
      "findfont: Font family 'Arial' not found.\n",
      "findfont: Font family 'Arial' not found.\n",
      "findfont: Font family 'Arial' not found.\n",
      "findfont: Font family 'Arial' not found.\n",
      "findfont: Font family 'Arial' not found.\n",
      "findfont: Font family 'Arial' not found.\n",
      "findfont: Font family 'Arial' not found.\n",
      "findfont: Font family 'Arial' not found.\n",
      "findfont: Font family 'Arial' not found.\n",
      "findfont: Font family 'Arial' not found.\n",
      "findfont: Font family 'Arial' not found.\n",
      "findfont: Font family 'Arial' not found.\n",
      "findfont: Font family 'Arial' not found.\n",
      "findfont: Font family 'Arial' not found.\n",
      "findfont: Font family 'Arial' not found.\n",
      "findfont: Font family 'Arial' not found.\n",
      "findfont: Font family 'Arial' not found.\n",
      "findfont: Font family 'Arial' not found.\n",
      "findfont: Font family 'Arial' not found.\n",
      "findfont: Font family 'Arial' not found.\n",
      "findfont: Font family 'Arial' not found.\n",
      "findfont: Font family 'Arial' not found.\n",
      "findfont: Font family 'Arial' not found.\n",
      "findfont: Font family 'Arial' not found.\n",
      "findfont: Font family 'Arial' not found.\n",
      "findfont: Font family 'Arial' not found.\n",
      "findfont: Font family 'Arial' not found.\n",
      "findfont: Font family 'Arial' not found.\n",
      "findfont: Font family 'Arial' not found.\n",
      "findfont: Font family 'Arial' not found.\n",
      "findfont: Font family 'Arial' not found.\n",
      "findfont: Font family 'Arial' not found.\n",
      "findfont: Font family 'Arial' not found.\n",
      "findfont: Font family 'Arial' not found.\n",
      "findfont: Font family 'Arial' not found.\n",
      "findfont: Font family 'Arial' not found.\n",
      "findfont: Font family 'Arial' not found.\n",
      "findfont: Font family 'Arial' not found.\n",
      "findfont: Font family 'Arial' not found.\n",
      "findfont: Font family 'Arial' not found.\n",
      "findfont: Font family 'Arial' not found.\n",
      "findfont: Font family 'Arial' not found.\n",
      "findfont: Font family 'Arial' not found.\n",
      "findfont: Font family 'Arial' not found.\n",
      "findfont: Font family 'Arial' not found.\n",
      "findfont: Font family 'Arial' not found.\n",
      "findfont: Font family 'Arial' not found.\n",
      "findfont: Font family 'Arial' not found.\n",
      "findfont: Font family 'Arial' not found.\n",
      "findfont: Font family 'Arial' not found.\n",
      "findfont: Font family 'Arial' not found.\n",
      "findfont: Font family 'Arial' not found.\n",
      "findfont: Font family 'Arial' not found.\n",
      "findfont: Font family 'Arial' not found.\n",
      "findfont: Font family 'Arial' not found.\n",
      "findfont: Font family 'Arial' not found.\n",
      "findfont: Font family 'Arial' not found.\n",
      "findfont: Font family 'Arial' not found.\n",
      "findfont: Font family 'Arial' not found.\n",
      "findfont: Font family 'Arial' not found.\n",
      "findfont: Font family 'Arial' not found.\n",
      "findfont: Font family 'Arial' not found.\n",
      "findfont: Font family 'Arial' not found.\n",
      "findfont: Font family 'Arial' not found.\n",
      "findfont: Font family 'Arial' not found.\n",
      "findfont: Font family 'Arial' not found.\n",
      "findfont: Font family 'Arial' not found.\n",
      "findfont: Font family 'Arial' not found.\n",
      "findfont: Font family 'Arial' not found.\n",
      "findfont: Font family 'Arial' not found.\n",
      "findfont: Font family 'Arial' not found.\n",
      "findfont: Font family 'Arial' not found.\n",
      "findfont: Font family 'Arial' not found.\n",
      "findfont: Font family 'Arial' not found.\n",
      "findfont: Font family 'Arial' not found.\n",
      "findfont: Font family 'Arial' not found.\n",
      "findfont: Font family 'Arial' not found.\n"
     ]
    },
    {
     "name": "stderr",
     "output_type": "stream",
     "text": [
      "findfont: Font family 'Arial' not found.\n",
      "findfont: Font family 'Arial' not found.\n",
      "findfont: Font family 'Arial' not found.\n",
      "findfont: Font family 'Arial' not found.\n",
      "findfont: Font family 'Arial' not found.\n",
      "findfont: Font family 'Arial' not found.\n",
      "findfont: Font family 'Arial' not found.\n",
      "findfont: Font family 'Arial' not found.\n",
      "findfont: Font family 'Arial' not found.\n",
      "findfont: Font family 'Arial' not found.\n",
      "findfont: Font family 'Arial' not found.\n",
      "findfont: Font family 'Arial' not found.\n",
      "findfont: Font family 'Arial' not found.\n",
      "findfont: Font family 'Arial' not found.\n",
      "findfont: Font family 'Arial' not found.\n",
      "findfont: Font family 'Arial' not found.\n",
      "findfont: Font family 'Arial' not found.\n",
      "findfont: Font family 'Arial' not found.\n",
      "findfont: Font family 'Arial' not found.\n",
      "findfont: Font family 'Arial' not found.\n",
      "findfont: Font family 'Arial' not found.\n",
      "findfont: Font family 'Arial' not found.\n",
      "findfont: Font family 'Arial' not found.\n",
      "findfont: Font family 'Arial' not found.\n",
      "findfont: Font family 'Arial' not found.\n",
      "findfont: Font family 'Arial' not found.\n",
      "findfont: Font family 'Arial' not found.\n",
      "findfont: Font family 'Arial' not found.\n",
      "findfont: Font family 'Arial' not found.\n",
      "findfont: Font family 'Arial' not found.\n",
      "findfont: Font family 'Arial' not found.\n"
     ]
    },
    {
     "data": {
      "image/png": "[encoded data removed]",
      "text/plain": [
       "<Figure size 800x1200 with 2 Axes>"
      ]
     },
     "metadata": {},
     "output_type": "display_data"
    }
   ],
   "source": [
    "import matplotlib.pyplot as plt\n",
    "from matplotlib import colors\n",
    "import matplotlib as mpl\n",
    "\n",
    "plt.style.use('ggplot')\n",
    "plt.style.use('~/tidyplot.mplstyle')\n",
    "mpl.rcParams['axes.grid'] = False\n",
    "# mpl.rcParams['lines.linewidth'] = 0.4672897\n",
    "# mpl.rcParams['grid.linestyle'] = 'solid'\n",
    "# mpl.rcParams['grid.linewidth'] = 0.4672897\n",
    "\n",
    "mpl.rcParams['boxplot.showfliers'] = False\n",
    "mpl.rcParams['boxplot.patchartist'] = True\n",
    "mpl.rcParams['boxplot.medianprops.color'] = \"#757575\"\n",
    "mpl.rcParams['boxplot.medianprops.linewidth'] = 0.5\n",
    "\n",
    "mpl.rcParams['boxplot.boxprops.color'] = \"#757575\"\n",
    "# mpl.rcParams['boxplot.boxprops.facecolor'] = \"#90caf9\"\n",
    "mpl.rcParams['boxplot.boxprops.linewidth'] = 0.5\n",
    "\n",
    "mpl.rcParams['boxplot.whiskerprops.color'] = \"#757575\"\n",
    "mpl.rcParams['boxplot.whiskerprops.linewidth'] = 0.5\n",
    "\n",
    "mpl.rcParams['boxplot.showcaps'] = False\n",
    "mpl.rcParams['figure.figsize'] = 2,3\n",
    "#colors=['#90caf9','#e57373','#fff176','#81c784']\n",
    "colors=['#42a5f5','#66bb6a','#ffb74d','#81c784']\n",
    "second_colors =['#1565c0','#2e7d32','#ef6c00','#81c784']\n",
    "\n",
    "num_methods=4\n",
    "offset = binsize/num_methods/2+binsize/num_methods/2\n",
    "f, (ax1, ax2) = plt.subplots(2, 1, gridspec_kw={'height_ratios': [0.5, 2]}, sharex=True)\n",
    "ax2.set_box_aspect(1)\n",
    "ax1.set_title('REDD vs. Dinopore vs. DeepEdit')\n",
    "#ax1.bar([binsize*i+offset for i in range(num_bins)], [x for x in sample_size],   yerr=0, width=binsize/num_methods*3,align='center', ecolor='black', capsize=10,label=\"sample size\",color=\"grey\")\n",
    "ax1.bar([binsize*i++binsize/num_methods+offset for i in range(num_bins)], [x for x in sample_size],   yerr=0, width=binsize/num_methods*3,align='center', ecolor='black', capsize=10,label=\"sample size\",color=\"grey\")\n",
    "#ax1.bar([binsize*i++binsize/num_methods*2+offset for i in range(num_bins)], [x for x in sample_size],   yerr=0, width=binsize/num_methods,align='center', ecolor='black', capsize=10,label=\"sample size\",color=\"grey\")\n",
    "\n",
    "\n",
    "\n",
    "ax1.set_ylabel('Sample size\\n')\n",
    "ax1.get_xaxis().set_visible(False)\n",
    "ax1.spines['right'].set_visible(False)\n",
    "ax1.spines['top'].set_visible(False)\n",
    "ax1.spines['bottom'].set_visible(False)\n",
    "ax1.set_xlim(0, 1)\n",
    "ReDD_errors=[[x1-x2 for x1,x2 in zip(sublist1,sublist2)] for sublist1,sublist2 in zip(predict_ratio_bin,AG_ratios_bin)]\n",
    "ax2.get_xticks()\n",
    "\n",
    "ax2.boxplot(x=ReDD_errors,widths=binsize/num_methods,positions=[binsize*i+offset for i in range(num_bins)],boxprops={\"facecolor\":colors[0]})\n",
    "ax2.plot([binsize*i+offset for i in range(num_bins)], [np.median(x) for x in ReDD_errors],'o-',color=second_colors[0],linewidth=0.5, markersize=1.5,zorder=1022)\n",
    "Dinopore_errors=[[x1-x2 for x1,x2 in zip(sublist1,sublist2)] for sublist1,sublist2 in zip(Dinopore_predict_ratio_bin,AG_ratios_bin)]\n",
    "ax2.boxplot(x=Dinopore_errors,widths=binsize/num_methods,positions=[binsize*i+binsize/num_methods+offset for i in range(num_bins)],boxprops={\"facecolor\":colors[1]})\n",
    "ax2.plot([binsize*i+binsize/num_methods+offset for i in range(num_bins)], [np.median(x) for x in Dinopore_errors],'o-',color=second_colors[1],linewidth=0.5, markersize=1.5,zorder=1022)\n",
    "DeepEdit_errors=[[x1-x2 for x1,x2 in zip(sublist1,sublist2)] for sublist1,sublist2 in zip(DeepEdit_predict_ratio_bin,AG_ratios_bin)]\n",
    "ax2.boxplot(x=DeepEdit_errors,widths=binsize/num_methods,positions=[binsize*i+binsize/num_methods+2*offset for i in range(num_bins)],boxprops={\"facecolor\":colors[2]})\n",
    "ax2.plot([binsize*i+binsize/num_methods*2+offset for i in range(num_bins)], [np.median(x) for x in DeepEdit_errors],'o-',color=second_colors[2],linewidth=0.5, markersize=1.5,zorder=1022)\n",
    "\n",
    "ax2.bar([binsize*i+offset for i in range(num_bins)], [0 for x in predict_ratio_bin], align='center', label=\"ReDD (MAE: %.2f)\"%(mae),color=colors[0])\n",
    "ax2.bar([binsize*i+binsize/num_methods+offset for i in range(num_bins)], [0 for x in Dinopore_predict_ratio_bin],width=binsize/num_methods,align='center', label=\"Dinopore (MAE: %.2f)\"%(Dinopore_mae),color=colors[1])\n",
    "ax2.bar([binsize*i+binsize/num_methods*2+offset for i in range(num_bins)], [0 for x in DeepEdit_predict_ratio_bin],width=binsize/num_methods,align='center', label=\"DeepEdit (MAE: %.2f)\"%(DeepEdit_mae),color=colors[2])\n",
    "\n",
    "#ax1.set_xticks([])\n",
    "#ax2.set_xticks([])\n",
    "ax2.set_xlim(0,1)\n",
    "ax2.set_ylim(-1.3,0.35)\n",
    "ax2.get_xaxis().set_visible(True)\n",
    "ax2.set_xticks([i/num_bins for i in range(num_bins+1)])\n",
    "#ax2.set_xticks([0.0, 0.2, 0.4, 0.6, 0.8, 1.0])\n",
    "#ax2.plot([0, 0.6], [0, 0.6], ls=\"--\",color=\"black\")\n",
    "ax2.axhline(y=0, color='black', linestyle='--')\n",
    "ax2.xaxis.set_tick_params(labelbottom=True)\n",
    "ax2.set_xticklabels([i/num_bins for i in range(num_bins+1)])\n",
    "ax2.legend(loc='lower left')\n",
    "#plt.show()\n",
    "ax2.set_xlabel('NGS-based ratio estimates') #\\nTotal number of candidate sites='+str(len(coverage))+\"(>\"+str(coverage_cutoff)+\":\"+str(hi_coverage_site_num)+\")\")\n",
    "ax2.set_ylabel('Estimated ratio errors')\n",
    "plt.tight_layout()\n",
    "#plt.show()\n",
    "plt.savefig(\"boxplot_error_\"+str(longread_coverage_cutoff)+\".svg\")\n",
    "\n",
    "median_error_REDD = [np.median(x) for x in ReDD_errors]\n",
    "#[0.003867521367521367, -0.07529753761969904, -0.21166666666666664, -0.20834841628959277, -0.2965217391304348]\n",
    "median_error_Dinopore = [np.median(x) for x in Dinopore_errors]\n",
    "#[-0.02, -0.08364868142544901, -0.19643965738116304, -0.30242552104821496, -0.46761624763890497]\n",
    "median_error_DeepEdit = [np.median(x) for x in DeepEdit_errors]\n",
    "#[0.023164313222079586, -0.13, -0.31952380952380954, -0.5047826086956522, -0.6212500000000001]\n",
    "\n",
    "true_median = [np.median(x) for x in AG_ratios_bin]\n",
    "#[0.05, 0.27, 0.48, 0.685, 0.89]\n",
    "[(sub1/sub2*100) for sub1,sub2 in zip(median_error_REDD,true_median)]\n",
    "#[7.735042735042734, -27.88797689618483, -44.09722222222222, -30.415827195560986, -33.317049340498286]\n",
    "[(sub1/sub2*100) for sub1,sub2 in zip(median_error_Dinopore,true_median)]\n",
    "#[-40.0, -30.98099312053667, -40.92492862107564, -44.14971110192919, -52.541151420101684]\n",
    "[(sub1/sub2*100) for sub1,sub2 in zip(median_error_DeepEdit,true_median)]\n",
    "#[46.32862644415917, -48.148148148148145, -66.56746031746033, -73.69089178038718, -69.80337078651687]\n",
    "\n",
    "q1 = [np.percentile(x, 25) for x in ReDD_errors]\n",
    "q3 = [np.percentile(x, 75) for x in ReDD_errors]"
   ]
  },
  {
   "cell_type": "code",
   "execution_count": 33,
   "id": "5439a6bd",
   "metadata": {},
   "outputs": [],
   "source": [
    "df = pd.DataFrame([median_error_REDD,median_error_Dinopore,median_error_DeepEdit]).T"
   ]
  },
  {
   "cell_type": "code",
   "execution_count": 34,
   "id": "d595007f",
   "metadata": {},
   "outputs": [],
   "source": [
    "df.columns = ['ReDD','Dinopore','DeepEdit']\n",
    "df.index = ['(0,0.2]','(0.2,0.4]','(0.4,0.6]','(0.6,0.8]','(0.8,1.0]']\n",
    "df.to_csv('plot_data/error.tsv',sep='\\t')"
   ]
  },
  {
   "cell_type": "code",
   "execution_count": 35,
   "id": "31724be2",
   "metadata": {},
   "outputs": [
    {
     "data": {
      "text/html": [
       "<div>\n",
       "<style scoped>\n",
       "    .dataframe tbody tr th:only-of-type {\n",
       "        vertical-align: middle;\n",
       "    }\n",
       "\n",
       "    .dataframe tbody tr th {\n",
       "        vertical-align: top;\n",
       "    }\n",
       "\n",
       "    .dataframe thead th {\n",
       "        text-align: right;\n",
       "    }\n",
       "</style>\n",
       "<table border=\"1\" class=\"dataframe\">\n",
       "  <thead>\n",
       "    <tr style=\"text-align: right;\">\n",
       "      <th></th>\n",
       "      <th>ReDD</th>\n",
       "      <th>Dinopore</th>\n",
       "      <th>DeepEdit</th>\n",
       "    </tr>\n",
       "  </thead>\n",
       "  <tbody>\n",
       "    <tr>\n",
       "      <th>(0,0.2]</th>\n",
       "      <td>0.003600</td>\n",
       "      <td>-0.020000</td>\n",
       "      <td>0.022466</td>\n",
       "    </tr>\n",
       "    <tr>\n",
       "      <th>(0.2,0.4]</th>\n",
       "      <td>-0.076176</td>\n",
       "      <td>-0.085167</td>\n",
       "      <td>-0.133846</td>\n",
       "    </tr>\n",
       "    <tr>\n",
       "      <th>(0.4,0.6]</th>\n",
       "      <td>-0.212976</td>\n",
       "      <td>-0.196770</td>\n",
       "      <td>-0.325595</td>\n",
       "    </tr>\n",
       "    <tr>\n",
       "      <th>(0.6,0.8]</th>\n",
       "      <td>-0.208348</td>\n",
       "      <td>-0.302426</td>\n",
       "      <td>-0.504783</td>\n",
       "    </tr>\n",
       "    <tr>\n",
       "      <th>(0.8,1.0]</th>\n",
       "      <td>-0.296522</td>\n",
       "      <td>-0.467616</td>\n",
       "      <td>-0.621250</td>\n",
       "    </tr>\n",
       "  </tbody>\n",
       "</table>\n",
       "</div>"
      ],
      "text/plain": [
       "               ReDD  Dinopore  DeepEdit\n",
       "(0,0.2]    0.003600 -0.020000  0.022466\n",
       "(0.2,0.4] -0.076176 -0.085167 -0.133846\n",
       "(0.4,0.6] -0.212976 -0.196770 -0.325595\n",
       "(0.6,0.8] -0.208348 -0.302426 -0.504783\n",
       "(0.8,1.0] -0.296522 -0.467616 -0.621250"
      ]
     },
     "execution_count": 35,
     "metadata": {},
     "output_type": "execute_result"
    }
   ],
   "source": [
    "df"
   ]
  },
  {
   "cell_type": "code",
   "execution_count": null,
   "id": "ff7ed820",
   "metadata": {},
   "outputs": [],
   "source": []
  }
 ],
 "metadata": {
  "kernelspec": {
   "display_name": "ReDD_plot [/nfs/turbo/umms-kinfai/haorli/envs/ReDD_plot/]",
   "language": "python",
   "name": "mamba_redd_plot"
  },
  "language_info": {
   "codemirror_mode": {
    "name": "ipython",
    "version": 3
   },
   "file_extension": ".py",
   "mimetype": "text/x-python",
   "name": "python",
   "nbconvert_exporter": "python",
   "pygments_lexer": "ipython3",
   "version": "3.11.5"
  }
 },
 "nbformat": 4,
 "nbformat_minor": 5
}
