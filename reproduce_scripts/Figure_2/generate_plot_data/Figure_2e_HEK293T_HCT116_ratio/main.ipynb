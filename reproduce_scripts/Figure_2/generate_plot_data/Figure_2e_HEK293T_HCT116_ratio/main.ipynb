{
 "cells": [
  {
   "cell_type": "code",
   "execution_count": 1,
   "id": "f0dad876",
   "metadata": {},
   "outputs": [],
   "source": [
    "import numpy as np\n",
    "from sklearn.cluster import SpectralClustering,KMeans\n",
    "from sklearn.metrics import average_precision_score\n",
    "from sklearn.metrics import roc_auc_score\n",
    "from sklearn.metrics import roc_curve\n",
    "from sklearn.metrics import precision_recall_curve\n",
    "from sklearn.metrics import matthews_corrcoef,accuracy_score,precision_score,recall_score,confusion_matrix\n",
    "from scipy.stats import pearsonr\n",
    "import matplotlib.pyplot as plt\n",
    "import os"
   ]
  },
  {
   "cell_type": "code",
   "execution_count": 2,
   "id": "f6e3250f",
   "metadata": {},
   "outputs": [],
   "source": [
    "outputfolder=\"figures/\"\n",
    "\n",
    "# HL: use this model\n",
    "modelname=\"release_general_model\" \n",
    "os.makedirs(outputfolder+\"/\"+modelname+\"/\",exist_ok = True)"
   ]
  },
  {
   "cell_type": "code",
   "execution_count": 3,
   "id": "fafa7f0d",
   "metadata": {},
   "outputs": [],
   "source": [
    "# HL: transfer from dataden \"/umms-kinfai/duolin/ying/reditools2_candidates/\"\n",
    "hash_candidat={}\n",
    "hash_candidat['AFG-H1_directRNA']='H1-AFG.candidate_sites.tab'\n",
    "hash_candidat['AFG-H9_directRNA']='H9-AFG.candidate_sites.tab'\n",
    "hash_candidat[\"PGC-H1_directRNA\"]='H1-PGC.candidate_sites.tab'\n",
    "hash_candidat[\"DE-H1_directRNA\"]='H1-DE.candidate_sites.tab'\n",
    "hash_candidat[\"DE-H9_directRNA\"]='H9-DE.candidate_sites.tab'\n",
    "hash_candidat[\"GM12878_directRNA\"]='GM12878.candidate_sites.tab'\n",
    "hash_candidat[\"H1-hESC_directRNA\"]='H1-hESC.candidate_sites.tab'\n",
    "hash_candidat[\"H9-hESC_directRNA\"]='H9-hESC.candidate_sites.tab'\n",
    "hash_candidat['HEK293T_DKO_directRNA']='HEK293T_WT.candidate_sites.tab'\n",
    "hash_candidat[\"HEK293T_WT_directRNA\"]='HEK293T_WT.candidate_sites.tab'\n",
    "hash_candidat[\"HCT116_WT\"]='HCT116.candidate_sites.tab'\n",
    "hash_candidat[\"HEK293T_WT\"]='HEK293T_WT.candidate_sites.tab'\n"
   ]
  },
  {
   "cell_type": "code",
   "execution_count": null,
   "id": "2fce2f23",
   "metadata": {},
   "outputs": [],
   "source": []
  },
  {
   "cell_type": "code",
   "execution_count": 4,
   "id": "e7160662",
   "metadata": {},
   "outputs": [],
   "source": [
    "long_reads_min_coverage = longread_coverage_cutoff = 5"
   ]
  },
  {
   "cell_type": "code",
   "execution_count": 5,
   "id": "6e6ce897",
   "metadata": {},
   "outputs": [],
   "source": [
    "#REDD\n",
    "featuredim=5\n",
    "windowsize=9\n",
    "inputfolder=\"/nfs/turbo/umms-kinfai/haorli/20240314_ReDD_result_data/figure2e/ReDD_results/\"\n",
    "# inputfolder=\"/scratch/kinfai_root/kinfai0/haorli/duolin/duolin/modification/Eventfeature_5feature_win9/\"\n",
    "# copy from /scratch/kinfai_root/kinfai0/haorli/duolin/duolin/modification/Eventfeature_5feature_win9/release_general_model\n",
    "modelname = 'release_general_model'\n",
    "filename=inputfolder+\"/\"+modelname+ \"/\"+\"HEK_WT_pass_onlycandidate.txt\"\n",
    "\n",
    "datatype=\"HEK293T_WT\"\n",
    "candidatefile=\"/nfs/turbo/umms-kinfai/haorli/20240314_ReDD_result_data/figure2a/reditools2_candidates/\"+hash_candidat[datatype]\n",
    "\n",
    "AG_ratio_per_site={}\n",
    "shortreadcoverage={}\n",
    "input = open(candidatefile,'r')\n",
    "for line in input:\n",
    "    chr_ = line.split()[0]\n",
    "    pos_ = line.split()[1]\n",
    "    chrpos=chr_+\"-\"+pos_\n",
    "    AG_ratio_per_site[chrpos]=float(line.split(\"\\t\")[3])\n",
    "    shortreadcoverage[chrpos]=float(line.split(\"\\t\")[4])\n",
    "#     if shortreadcoverage[chrpos] < 10:\n",
    "#         continue\n",
    "\n",
    "\n",
    "input = open(filename)\n",
    "pos_coverage={}\n",
    "coverage = {}\n",
    "cutoff = 0.5#0.5\n",
    "for line in input:\n",
    "    score=float(line.split(\"\\t\")[-1])\n",
    "    if score>=cutoff:\n",
    "       predict_label=1\n",
    "    else:\n",
    "       predict_label=0\n",
    "    \n",
    "    transid= line.split(\"\\t\")[2]\n",
    "    transpos = line.split(\"\\t\")[3]\n",
    "    chrpos = transid+\"-\"+transpos\n",
    "    \n",
    "    if chrpos not in pos_coverage.keys():\n",
    "        pos_coverage[chrpos]=predict_label\n",
    "        coverage[chrpos]=1\n",
    "    else:\n",
    "        pos_coverage[chrpos]+=predict_label\n",
    "        coverage[chrpos]+=1\n",
    "\n",
    "HEK293T_ind_predict_value_all={}\n",
    "HEK293T_ind_true_value_all = {}\n",
    "for site in AG_ratio_per_site:   \n",
    "     if site in pos_coverage:\n",
    "          if coverage[site] >= long_reads_min_coverage:\n",
    "            \n",
    "              HEK293T_ind_predict_value_all[site]=float(pos_coverage[site]/coverage[site])\n",
    "              HEK293T_ind_true_value_all[site] = AG_ratio_per_site[site]"
   ]
  },
  {
   "cell_type": "code",
   "execution_count": 6,
   "id": "9aef58d1",
   "metadata": {},
   "outputs": [],
   "source": [
    "#REDD\n",
    "featuredim=5\n",
    "windowsize=9\n",
    "inputfolder=\"/nfs/turbo/umms-kinfai/haorli/20240314_ReDD_result_data/figure2e/ReDD_results/\"\n",
    "# inputfolder=\"/scratch/kinfai_root/kinfai0/haorli/duolin/duolin/modification/Eventfeature_5feature_win9/\"\n",
    "# copy from /scratch/kinfai_root/kinfai0/haorli/duolin/duolin/modification/Eventfeature_5feature_win9/release_general_model\n",
    "modelname = 'release_general_model'\n",
    "filename=inputfolder+\"/\"+modelname+ \"/\"+\"HCT116_WT_onlycandidate.txt\"\n",
    "\n",
    "datatype=\"HCT116_WT\"\n",
    "candidatefile=\"/nfs/turbo/umms-kinfai/haorli/20240314_ReDD_result_data/figure2a/reditools2_candidates/\"+hash_candidat[datatype]\n",
    "\n",
    "AG_ratio_per_site={}\n",
    "shortreadcoverage={}\n",
    "input = open(candidatefile,'r')\n",
    "for line in input:\n",
    "    chr_ = line.split()[0]\n",
    "    pos_ = line.split()[1]\n",
    "    chrpos=chr_+\"-\"+pos_\n",
    "    AG_ratio_per_site[chrpos]=float(line.split(\"\\t\")[3])\n",
    "    shortreadcoverage[chrpos]=float(line.split(\"\\t\")[4])\n",
    "#     if shortreadcoverage[chrpos] < 10:\n",
    "#         continue\n",
    "\n",
    "input = open(filename)\n",
    "pos_coverage={}\n",
    "coverage = {}\n",
    "cutoff = 0.5#0.5\n",
    "for line in input:\n",
    "    score=float(line.split(\"\\t\")[-1])\n",
    "    if score>=cutoff:\n",
    "       predict_label=1\n",
    "    else:\n",
    "       predict_label=0\n",
    "    \n",
    "    transid= line.split(\"\\t\")[2]\n",
    "    transpos = line.split(\"\\t\")[3]\n",
    "    chrpos = transid+\"-\"+transpos\n",
    "    \n",
    "    if chrpos not in pos_coverage.keys():\n",
    "        pos_coverage[chrpos]=predict_label\n",
    "        coverage[chrpos]=1\n",
    "    else:\n",
    "        pos_coverage[chrpos]+=predict_label\n",
    "        coverage[chrpos]+=1\n",
    "\n",
    "HCT116_predict_value_all={}\n",
    "HCT116_true_value_all = {}\n",
    "for site in AG_ratio_per_site:   \n",
    "     if site in pos_coverage:\n",
    "          if coverage[site] >= long_reads_min_coverage:\n",
    "              HCT116_predict_value_all[site]=float(pos_coverage[site]/coverage[site])\n",
    "              HCT116_true_value_all[site] = AG_ratio_per_site[site]"
   ]
  },
  {
   "cell_type": "code",
   "execution_count": 7,
   "id": "730b4257",
   "metadata": {},
   "outputs": [],
   "source": [
    "import pandas as pd\n",
    "from pathlib import Path"
   ]
  },
  {
   "cell_type": "code",
   "execution_count": 8,
   "id": "d72f7c9f",
   "metadata": {},
   "outputs": [],
   "source": [
    "# export to csv\n",
    "df = pd.DataFrame({'truth':HCT116_true_value_all,'ReDD':HCT116_predict_value_all})\n",
    "df.index.name = 'Site'\n",
    "Path('plot_data/').mkdir(exist_ok=True,parents=True)\n",
    "df.to_csv('plot_data/HCT116_site_ratio.tsv',sep='\\t',index=True)\n",
    "HCT_error = np.abs(df['ReDD']-df['truth'])\n",
    "# export to csv\n",
    "df = pd.DataFrame({'truth':HEK293T_ind_true_value_all,'ReDD':HEK293T_ind_predict_value_all})\n",
    "df.index.name = 'Site'\n",
    "Path('plot_data/').mkdir(exist_ok=True,parents=True)\n",
    "df.to_csv('plot_data/HEK293T_independent_sample_site_ratio.tsv',sep='\\t',index=True)\n",
    "HEK_error = np.abs(df['ReDD']-df['truth'])\n"
   ]
  },
  {
   "cell_type": "code",
   "execution_count": 9,
   "id": "91439e40",
   "metadata": {},
   "outputs": [],
   "source": [
    "import scipy.stats"
   ]
  },
  {
   "cell_type": "code",
   "execution_count": 10,
   "id": "257c2f56",
   "metadata": {},
   "outputs": [
    {
     "data": {
      "text/plain": [
       "<Axes: >"
      ]
     },
     "execution_count": 10,
     "metadata": {},
     "output_type": "execute_result"
    },
    {
     "data": {
      "image/png": "[encoded data removed]",
      "text/plain": [
       "<Figure size 640x480 with 1 Axes>"
      ]
     },
     "metadata": {},
     "output_type": "display_data"
    }
   ],
   "source": [
    "HCT_error.hist(bins=100)"
   ]
  },
  {
   "cell_type": "code",
   "execution_count": 11,
   "id": "43f0a2d1",
   "metadata": {},
   "outputs": [
    {
     "data": {
      "text/plain": [
       "<Axes: >"
      ]
     },
     "execution_count": 11,
     "metadata": {},
     "output_type": "execute_result"
    },
    {
     "data": {
      "image/png": "[encoded data removed]",
      "text/plain": [
       "<Figure size 640x480 with 1 Axes>"
      ]
     },
     "metadata": {},
     "output_type": "display_data"
    }
   ],
   "source": [
    "HEK_error.hist(bins=100)"
   ]
  },
  {
   "cell_type": "code",
   "execution_count": 12,
   "id": "b6f20bce",
   "metadata": {},
   "outputs": [
    {
     "data": {
      "text/plain": [
       "MannwhitneyuResult(statistic=9681896.5, pvalue=1.8785759922257467e-45)"
      ]
     },
     "execution_count": 12,
     "metadata": {},
     "output_type": "execute_result"
    }
   ],
   "source": [
    "scipy.stats.mannwhitneyu(HCT_error.values.astype(float),HEK_error.values.astype(float),alternative='greater')"
   ]
  },
  {
   "cell_type": "code",
   "execution_count": null,
   "id": "462676c0",
   "metadata": {},
   "outputs": [],
   "source": []
  },
  {
   "cell_type": "code",
   "execution_count": 9,
   "id": "eef955dd",
   "metadata": {},
   "outputs": [],
   "source": [
    "num_bins = 5\n",
    "binsize=1/num_bins\n",
    "def binize_list(true_list,predict_list):\n",
    "    true_list,predict_list = np.array(true_list),np.array(predict_list)\n",
    "    ratio_list = np.arange(0,1,binsize) #np.random.uniform(0.0, 1.0, 30)\n",
    "    ratio_list.sort()\n",
    "    sample_size=[]\n",
    "    AG_ratios_bin=[]\n",
    "    predict_ratio_bin = []\n",
    "    ratio_bin_list=[]\n",
    "    for index in range(len(ratio_list)):\n",
    "        start = ratio_list[index]\n",
    "        end = start+binsize\n",
    "        index_start_end = np.where((true_list<=end) &(true_list>start))[0]\n",
    "        if(len(index_start_end)>1):\n",
    "            ratio_bin_list.append(start)\n",
    "            AG_ratios_bin.append(true_list[index_start_end])\n",
    "            predict_ratio_bin.append(predict_list[index_start_end])\n",
    "            sample_size.append(len(predict_list[index_start_end]))\n",
    "    return AG_ratios_bin,predict_ratio_bin,sample_size\n"
   ]
  },
  {
   "cell_type": "code",
   "execution_count": 10,
   "id": "44227dcf",
   "metadata": {},
   "outputs": [],
   "source": [
    "HEK293T_ind_true_list,HEK293T_ind_predict_list = [],[]\n",
    "for key in HEK293T_ind_true_value_all:\n",
    "    true_val,predict_val = HEK293T_ind_true_value_all[key],HEK293T_ind_predict_value_all[key]\n",
    "    HEK293T_ind_true_list.append(true_val)\n",
    "    HEK293T_ind_predict_list.append(predict_val)\n",
    "HCT116_true_list,HCT116_predict_list = [],[]\n",
    "for key in HCT116_true_value_all:\n",
    "    true_val,predict_val = HCT116_true_value_all[key],HCT116_predict_value_all[key]\n",
    "    HCT116_true_list.append(true_val)\n",
    "    HCT116_predict_list.append(predict_val)"
   ]
  },
  {
   "cell_type": "code",
   "execution_count": 11,
   "id": "f197f6bb",
   "metadata": {},
   "outputs": [],
   "source": [
    "HCT116_AG_ratios_bin,HCT116_predict_ratio_bin,HCT116_sample_size = binize_list(HCT116_true_list,HCT116_predict_list)\n",
    "HEK293T_ind_AG_ratios_bin,HEK293T_ind_predict_ratio_bin,HEK293T_ind_sample_size = binize_list(HEK293T_ind_true_list,HEK293T_ind_predict_list)\n"
   ]
  },
  {
   "cell_type": "code",
   "execution_count": 12,
   "id": "196eeb2e",
   "metadata": {},
   "outputs": [],
   "source": [
    "def cal_MAE(AG_ratios_bin,predict_ratio_bin):\n",
    "    mae=np.abs(np.asarray([np.median(x) for x in AG_ratios_bin])-np.asarray([np.median(x) for x in predict_ratio_bin])).mean()\n",
    "    return mae"
   ]
  },
  {
   "cell_type": "code",
   "execution_count": 13,
   "id": "9576ed00",
   "metadata": {},
   "outputs": [],
   "source": [
    "HCT116_mae = cal_MAE(HCT116_AG_ratios_bin,HCT116_predict_ratio_bin)\n",
    "HEK293T_ind_mae = cal_MAE(HEK293T_ind_AG_ratios_bin,HEK293T_ind_predict_ratio_bin)\n"
   ]
  },
  {
   "cell_type": "code",
   "execution_count": 22,
   "id": "7067ce93",
   "metadata": {},
   "outputs": [
    {
     "data": {
      "text/plain": [
       "0.12275560453963708"
      ]
     },
     "execution_count": 22,
     "metadata": {},
     "output_type": "execute_result"
    }
   ],
   "source": [
    "HCT116_mae"
   ]
  },
  {
   "cell_type": "code",
   "execution_count": 23,
   "id": "5cee9b66",
   "metadata": {},
   "outputs": [
    {
     "data": {
      "text/plain": [
       "0.10323370849339682"
      ]
     },
     "execution_count": 23,
     "metadata": {},
     "output_type": "execute_result"
    }
   ],
   "source": [
    "HEK293T_ind_mae"
   ]
  },
  {
   "cell_type": "code",
   "execution_count": 14,
   "id": "506ea45f",
   "metadata": {},
   "outputs": [],
   "source": [
    "# export to csv\n",
    "df = pd.DataFrame([HCT116_mae,HEK293T_ind_mae]).T\n",
    "df.columns = ['HCT116','HEK293T_independent_sample']\n",
    "df.to_csv('plot_data/MAE.tsv',sep='\\t',index=False)"
   ]
  },
  {
   "cell_type": "code",
   "execution_count": 15,
   "id": "5439a6bd",
   "metadata": {},
   "outputs": [],
   "source": [
    "HCT116_errors=[[x1-x2 for x1,x2 in zip(sublist1,sublist2)] for sublist1,sublist2 in zip(HCT116_predict_ratio_bin,HCT116_AG_ratios_bin)]\n"
   ]
  },
  {
   "cell_type": "code",
   "execution_count": 16,
   "id": "d595007f",
   "metadata": {},
   "outputs": [],
   "source": [
    "HEK293T_ind_errors=[[x1-x2 for x1,x2 in zip(sublist1,sublist2)] for sublist1,sublist2 in zip(HEK293T_ind_predict_ratio_bin,HEK293T_ind_AG_ratios_bin)]\n"
   ]
  },
  {
   "cell_type": "code",
   "execution_count": 18,
   "id": "997badd6",
   "metadata": {},
   "outputs": [],
   "source": [
    "median_error_HCT116 = [np.median(x) for x in HCT116_errors]\n",
    "median_error_HEK293T_ind = [np.median(x) for x in HEK293T_ind_errors]"
   ]
  },
  {
   "cell_type": "code",
   "execution_count": 19,
   "id": "41808fc3",
   "metadata": {},
   "outputs": [
    {
     "data": {
      "text/plain": [
       "[0.0611111111111111,\n",
       " -0.03408200734394125,\n",
       " -0.12740384615384617,\n",
       " -0.06857142857142862,\n",
       " -0.13181818181818172]"
      ]
     },
     "execution_count": 19,
     "metadata": {},
     "output_type": "execute_result"
    }
   ],
   "source": [
    "median_error_HCT116"
   ]
  },
  {
   "cell_type": "code",
   "execution_count": 20,
   "id": "1fc935f2",
   "metadata": {},
   "outputs": [],
   "source": [
    "df = pd.DataFrame([median_error_HCT116,median_error_HEK293T_ind]).T\n",
    "df.columns = ['HCT116','HEK293T_independent_sample']\n",
    "df.index = ['(0,0.2]','(0.2,0.4]','(0.4,0.6]','(0.6,0.8]','(0.8,1.0]']\n",
    "df.to_csv('plot_data/error.tsv',sep='\\t')"
   ]
  },
  {
   "cell_type": "code",
   "execution_count": 21,
   "id": "1880000d",
   "metadata": {},
   "outputs": [
    {
     "data": {
      "text/html": [
       "<div>\n",
       "<style scoped>\n",
       "    .dataframe tbody tr th:only-of-type {\n",
       "        vertical-align: middle;\n",
       "    }\n",
       "\n",
       "    .dataframe tbody tr th {\n",
       "        vertical-align: top;\n",
       "    }\n",
       "\n",
       "    .dataframe thead th {\n",
       "        text-align: right;\n",
       "    }\n",
       "</style>\n",
       "<table border=\"1\" class=\"dataframe\">\n",
       "  <thead>\n",
       "    <tr style=\"text-align: right;\">\n",
       "      <th></th>\n",
       "      <th>HCT116</th>\n",
       "      <th>HEK293T_independent_sample</th>\n",
       "    </tr>\n",
       "  </thead>\n",
       "  <tbody>\n",
       "    <tr>\n",
       "      <th>(0,0.2]</th>\n",
       "      <td>0.061111</td>\n",
       "      <td>0.037948</td>\n",
       "    </tr>\n",
       "    <tr>\n",
       "      <th>(0.2,0.4]</th>\n",
       "      <td>-0.034082</td>\n",
       "      <td>-0.053333</td>\n",
       "    </tr>\n",
       "    <tr>\n",
       "      <th>(0.4,0.6]</th>\n",
       "      <td>-0.127404</td>\n",
       "      <td>-0.086667</td>\n",
       "    </tr>\n",
       "    <tr>\n",
       "      <th>(0.6,0.8]</th>\n",
       "      <td>-0.068571</td>\n",
       "      <td>-0.065417</td>\n",
       "    </tr>\n",
       "    <tr>\n",
       "      <th>(0.8,1.0]</th>\n",
       "      <td>-0.131818</td>\n",
       "      <td>-0.145714</td>\n",
       "    </tr>\n",
       "  </tbody>\n",
       "</table>\n",
       "</div>"
      ],
      "text/plain": [
       "             HCT116  HEK293T_independent_sample\n",
       "(0,0.2]    0.061111                    0.037948\n",
       "(0.2,0.4] -0.034082                   -0.053333\n",
       "(0.4,0.6] -0.127404                   -0.086667\n",
       "(0.6,0.8] -0.068571                   -0.065417\n",
       "(0.8,1.0] -0.131818                   -0.145714"
      ]
     },
     "execution_count": 21,
     "metadata": {},
     "output_type": "execute_result"
    }
   ],
   "source": [
    "df"
   ]
  },
  {
   "cell_type": "code",
   "execution_count": null,
   "id": "0eb0cdaa",
   "metadata": {},
   "outputs": [],
   "source": []
  }
 ],
 "metadata": {
  "kernelspec": {
   "display_name": "ReDD_plot [/nfs/turbo/umms-kinfai/haorli/envs/ReDD_plot/]",
   "language": "python",
   "name": "mamba_redd_plot"
  },
  "language_info": {
   "codemirror_mode": {
    "name": "ipython",
    "version": 3
   },
   "file_extension": ".py",
   "mimetype": "text/x-python",
   "name": "python",
   "nbconvert_exporter": "python",
   "pygments_lexer": "ipython3",
   "version": "3.11.5"
  }
 },
 "nbformat": 4,
 "nbformat_minor": 5
}
