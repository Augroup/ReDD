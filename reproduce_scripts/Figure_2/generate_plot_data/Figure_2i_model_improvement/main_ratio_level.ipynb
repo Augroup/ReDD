{
 "cells": [
  {
   "cell_type": "code",
   "execution_count": 1,
   "id": "2c4504c3",
   "metadata": {},
   "outputs": [],
   "source": [
    "import numpy as np\n",
    "from sklearn.cluster import SpectralClustering,KMeans\n",
    "from sklearn.metrics import average_precision_score\n",
    "from sklearn.metrics import roc_auc_score\n",
    "from sklearn.metrics import roc_curve\n",
    "from sklearn.metrics import precision_recall_curve\n",
    "from sklearn.metrics import matthews_corrcoef,accuracy_score,precision_score,recall_score,confusion_matrix\n",
    "from scipy.stats import pearsonr\n",
    "import matplotlib.pyplot as plt\n",
    "import os\n",
    "import pandas as pd\n",
    "from pathlib import Path"
   ]
  },
  {
   "cell_type": "code",
   "execution_count": 2,
   "id": "4c41263b",
   "metadata": {},
   "outputs": [],
   "source": [
    "# HL: transfer from dataden \"/umms-kinfai/duolin/ying/reditools2_candidates/\"\n",
    "hash_candidat={}\n",
    "hash_candidat['AFG-H1_directRNA']='H1-AFG.candidate_sites.tab'\n",
    "hash_candidat['AFG-H9_directRNA']='H9-AFG.candidate_sites.tab'\n",
    "hash_candidat[\"PGC-H1_directRNA\"]='H1-PGC.candidate_sites.tab'\n",
    "hash_candidat[\"DE-H1_directRNA\"]='H1-DE.candidate_sites.tab'\n",
    "hash_candidat[\"DE-H9_directRNA\"]='H9-DE.candidate_sites.tab'\n",
    "hash_candidat[\"GM12878_directRNA\"]='GM12878.candidate_sites.tab'\n",
    "hash_candidat[\"H1-hESC_directRNA\"]='H1-hESC.candidate_sites.tab'\n",
    "hash_candidat[\"H9-hESC_directRNA\"]='H9-hESC.candidate_sites.tab'\n",
    "hash_candidat['HEK293T_DKO_directRNA']='HEK293T_WT.candidate_sites.tab'\n",
    "hash_candidat[\"HEK293T_WT_directRNA\"]='HEK293T_WT.candidate_sites.tab'\n",
    "hash_candidat[\"HEK_WT_pass\"]='HEK293T_WT.candidate_sites.tab'\n"
   ]
  },
  {
   "cell_type": "code",
   "execution_count": 3,
   "id": "d7ca20f8",
   "metadata": {},
   "outputs": [],
   "source": [
    "modelist=[\n",
    "    'hg38_incre5train__HEK293T_WT_directRNA',\n",
    "    'hg38_incre5train__HEK293T_WT_directRNA_AFG-H1_directRNA',\n",
    "    'hg38_incre5train__HEK293T_WT_directRNA_H9-hESC_directRNA', #no noncandidate data\n",
    "'hg38_incre5train__HEK293T_WT_directRNA_AFG-H1_directRNA_DE-H1_directRNA', #no noncandidate data\n",
    "'hg38_incre5train__HEK293T_WT_directRNA_AFG-H1_directRNA_DE-H1_directRNA_H9-hESC_directRNA', #no data\n",
    "\n",
    "'hg38_merge9alldata5_noearlystop_run1ep40_run2ep60_negsite_KOnonw5_withLSTM',#second general model\n",
    "]\n",
    "\n",
    "modelnames=['HEK293T','HEK293T;H1-PE','HEK293T;H9-hESC','HEK293T;H1-PE;H1-DE','HEK293T;H1-PE;H1-DE;H9-hESC','all']"
   ]
  },
  {
   "cell_type": "code",
   "execution_count": 4,
   "id": "ad1e40f8",
   "metadata": {},
   "outputs": [],
   "source": [
    "AG_ratio_per_site={}\n",
    "shortreadcoverage={}\n",
    "datatype='H1-hESC_directRNA'\n",
    "long_reads_min_coverage= 5\n",
    "\n",
    "candidatefile=\"/nfs/turbo/umms-kinfai/haorli/20240314_ReDD_result_data/figure2a/reditools2_candidates/\"+hash_candidat[datatype]\n",
    "\n",
    "input = open(candidatefile,'r')\n",
    "for line in input:\n",
    "    chr_ = line.split()[0]\n",
    "    pos_ = line.split()[1]\n",
    "    chrpos=chr_+\"-\"+pos_\n",
    "    AG_ratio_per_site[chrpos]=float(line.split(\"\\t\")[3])\n",
    "    shortreadcoverage[chrpos]=float(line.split(\"\\t\")[4])"
   ]
  },
  {
   "cell_type": "code",
   "execution_count": 5,
   "id": "bd39a713",
   "metadata": {},
   "outputs": [],
   "source": [
    "num_bins = 5\n",
    "binsize=1/num_bins\n",
    "def binize_list(true_list,predict_list):\n",
    "    true_list,predict_list = np.array(true_list),np.array(predict_list)\n",
    "    ratio_list = np.arange(0,1,binsize) #np.random.uniform(0.0, 1.0, 30)\n",
    "    ratio_list.sort()\n",
    "    sample_size=[]\n",
    "    AG_ratios_bin=[]\n",
    "    predict_ratio_bin = []\n",
    "    ratio_bin_list=[]\n",
    "    for index in range(len(ratio_list)):\n",
    "        start = ratio_list[index]\n",
    "        end = start+binsize\n",
    "        index_start_end = np.where((true_list<=end) &(true_list>start))[0]\n",
    "        if(len(index_start_end)>1):\n",
    "            ratio_bin_list.append(start)\n",
    "            AG_ratios_bin.append(true_list[index_start_end])\n",
    "            predict_ratio_bin.append(predict_list[index_start_end])\n",
    "            sample_size.append(len(predict_list[index_start_end]))\n",
    "    return AG_ratios_bin,predict_ratio_bin,sample_size\n"
   ]
  },
  {
   "cell_type": "code",
   "execution_count": 7,
   "id": "dbc632a3",
   "metadata": {},
   "outputs": [
    {
     "name": "stdout",
     "output_type": "stream",
     "text": [
      "0.0894658500278209\n",
      "0.2425844322175109\n",
      "HEK293T\n",
      "----\n",
      "0.115938374369105\n",
      "0.17315292158867085\n",
      "HEK293T;H1-PE\n",
      "----\n",
      "0.13023371087225577\n",
      "0.11823605651226576\n",
      "HEK293T;H9-hESC\n",
      "----\n",
      "0.15909163162355963\n",
      "0.10457340685716372\n",
      "HEK293T;H1-PE;H1-DE\n",
      "----\n",
      "0.16602358067262202\n",
      "0.08502062182556239\n",
      "HEK293T;H1-PE;H1-DE;H9-hESC\n",
      "----\n",
      "0.1714074200604227\n",
      "0.06600349673921693\n",
      "all\n",
      "----\n"
     ]
    }
   ],
   "source": [
    "performance_dict = {}\n",
    "mae_dict = {}\n",
    "for model,modelname in zip(modelist,modelnames):\n",
    "    filename=\"/nfs/turbo/umms-kinfai/haorli/20240314_ReDD_result_data/figure3d/ReDD_results/\"+model+\"/\"+\"test_\"+datatype+\"_onlycandidate.txt\"\n",
    "    input = open(filename)\n",
    "    coverage = {}\n",
    "    pos_coverage = {}\n",
    "    cutoff = 0.5\n",
    "    for line in input:\n",
    "        score=float(line.split(\"\\t\")[-1])\n",
    "        if score>=cutoff:\n",
    "           predict_label=1\n",
    "        else:\n",
    "           predict_label=0\n",
    "        transid= line.split(\"\\t\")[2]\n",
    "        transpos = line.split(\"\\t\")[3]\n",
    "        chrpos = transid+\"-\"+transpos\n",
    "        if chrpos not in pos_coverage.keys():\n",
    "            pos_coverage[chrpos]=predict_label\n",
    "            coverage[chrpos]=1\n",
    "        else:\n",
    "            pos_coverage[chrpos]+=predict_label\n",
    "            coverage[chrpos]+=1\n",
    "    predict_value_all = {}\n",
    "    true_value_all = {}\n",
    "    use_coverage_cutoff=1\n",
    "    for site in AG_ratio_per_site:   \n",
    "         if site in pos_coverage:\n",
    "            if coverage[site] >= long_reads_min_coverage:\n",
    "                predict_value_all[site]=float(pos_coverage[site]/coverage[site])\n",
    "                true_value_all[site] = AG_ratio_per_site[site]\n",
    "    # export to csv\n",
    "    df = pd.DataFrame({'truth':true_value_all,'ReDD':predict_value_all})\n",
    "    df.index.name = 'Site'\n",
    "    Path('plot_data/site_ratios/').mkdir(exist_ok=True,parents=True)\n",
    "    df.to_csv(f'plot_data/site_ratios/{modelname}_site_ratio.tsv',sep='\\t',index=True)\n",
    "    mae_dict[modelname] = df\n",
    "    true_list=[]\n",
    "    predict_list = []\n",
    "    coords_list = []\n",
    "    for key in predict_value_all:#1259\n",
    "        true_list.append(true_value_all[key])\n",
    "        predict_list.append(predict_value_all[key])\n",
    "        coords_list.append(key)\n",
    "    predict_list=np.asarray(predict_list)\n",
    "    true_list=np.asarray(true_list)\n",
    "    coords_list = np.asarray(coords_list)\n",
    "    print(np.mean(np.abs(predict_list-true_list)))\n",
    "    # binize\n",
    "    AG_ratios_bin,predict_ratio_bin,sample_size = binize_list(true_list,predict_list)\n",
    "    \n",
    "    # calculate MAE\n",
    "    mae=np.abs(np.asarray([np.median(x) for x in AG_ratios_bin])-np.asarray([np.median(x) for x in predict_ratio_bin])).mean()    \n",
    "    print(mae)\n",
    "    print(modelname)\n",
    "    print('----')\n",
    "#     pcc=pearsonr([np.median(x) for x in AG_ratios_bin], [np.median(x) for x in predict_ratio_bin])[0]\n",
    "    performance_dict[modelname] = [mae]"
   ]
  },
  {
   "cell_type": "code",
   "execution_count": 38,
   "id": "02e059cc",
   "metadata": {},
   "outputs": [
    {
     "data": {
      "text/plain": [
       "{'HEK293T': [0.2425844322175109],\n",
       " 'HEK293T;H1-PE': [0.17315292158867085],\n",
       " 'HEK293T;H9-hESC': [0.11823605651226576],\n",
       " 'HEK293T;H1-PE;H1-DE': [0.10457340685716372],\n",
       " 'HEK293T;H1-PE;H1-DE;H9-hESC': [0.08502062182556239],\n",
       " 'all': [0.06600349673921693]}"
      ]
     },
     "execution_count": 38,
     "metadata": {},
     "output_type": "execute_result"
    }
   ],
   "source": [
    "performance_dict"
   ]
  },
  {
   "cell_type": "code",
   "execution_count": 7,
   "id": "0a8bce10",
   "metadata": {},
   "outputs": [],
   "source": [
    "df = pd.DataFrame(performance_dict).T\n",
    "df.index.name ='Model'\n",
    "df.columns=['MAE']"
   ]
  },
  {
   "cell_type": "code",
   "execution_count": 36,
   "id": "4a2c38d3",
   "metadata": {},
   "outputs": [],
   "source": [
    "df.to_csv('plot_data/quantification_metrics.tsv',sep='\\t')"
   ]
  },
  {
   "cell_type": "code",
   "execution_count": 87,
   "id": "849acd56",
   "metadata": {},
   "outputs": [],
   "source": [
    "import scipy.stats\n",
    "def compare_df(metA,metB):\n",
    "    metA_error = np.abs(mae_dict[metA]['ReDD'] - mae_dict[metA]['truth'])\n",
    "    metB_error = np.abs(mae_dict[metB]['ReDD'] - mae_dict[metB]['truth'])\n",
    "    error_df = pd.DataFrame({'truth':mae_dict[metA]['truth'],'metA':metA_error,'metB':metB_error})\n",
    "    return error_df,scipy.stats.wilcoxon(error_df['metB'],error_df['metA'],alternative='greater')"
   ]
  },
  {
   "cell_type": "code",
   "execution_count": 88,
   "id": "4e596b69",
   "metadata": {},
   "outputs": [
    {
     "name": "stdout",
     "output_type": "stream",
     "text": [
      "WilcoxonResult(statistic=826136.0, pvalue=1.1263426472566365e-44)\n"
     ]
    }
   ],
   "source": [
    "metA = 'HEK293T'\n",
    "metB = 'HEK293T;H1-PE'\n",
    "error_df,p = compare_df(metA,metB)\n",
    "print(p)"
   ]
  },
  {
   "cell_type": "code",
   "execution_count": 89,
   "id": "e06eb2f6",
   "metadata": {},
   "outputs": [
    {
     "name": "stdout",
     "output_type": "stream",
     "text": [
      "WilcoxonResult(statistic=1555188.0, pvalue=4.7644916036956485e-124)\n"
     ]
    }
   ],
   "source": [
    "metA = 'HEK293T'\n",
    "metB = 'HEK293T;H1-PE;H1-DE'\n",
    "error_df,p = compare_df(metA,metB)\n",
    "print(p)"
   ]
  },
  {
   "cell_type": "code",
   "execution_count": 90,
   "id": "c09c31ac",
   "metadata": {},
   "outputs": [
    {
     "name": "stdout",
     "output_type": "stream",
     "text": [
      "WilcoxonResult(statistic=1106224.5, pvalue=2.700387794547009e-79)\n"
     ]
    }
   ],
   "source": [
    "metA = 'HEK293T'\n",
    "metB = 'HEK293T;H9-hESC'\n",
    "error_df,p = compare_df(metA,metB)\n",
    "print(p)"
   ]
  },
  {
   "cell_type": "code",
   "execution_count": 91,
   "id": "0a5b15f4",
   "metadata": {},
   "outputs": [
    {
     "name": "stdout",
     "output_type": "stream",
     "text": [
      "WilcoxonResult(statistic=965143.0, pvalue=0.5568496389326504)\n"
     ]
    }
   ],
   "source": [
    "metA = 'HEK293T;H1-PE;H1-DE;H9-hESC'\n",
    "metB = 'all'\n",
    "error_df,p = compare_df(metA,metB)\n",
    "print(p)"
   ]
  },
  {
   "cell_type": "code",
   "execution_count": 47,
   "id": "2cff4731",
   "metadata": {},
   "outputs": [],
   "source": [
    "ps = []\n",
    "for start,end in zip([0,0.2,0.4,0.6,0.8],[0.2,0.4,0.6,0.8,1.0]):\n",
    "    new_error_df = error_df[(error_df['truth'] > start) & (error_df['truth'] <= end)]\n",
    "    p = scipy.stats.wilcoxon(new_error_df['metB'],new_error_df['metA'],alternative='less').pvalue\n",
    "    ps.append(p)"
   ]
  },
  {
   "cell_type": "code",
   "execution_count": 48,
   "id": "1d76432e",
   "metadata": {},
   "outputs": [
    {
     "data": {
      "text/plain": [
       "array([2.00000000e-01, 6.28117787e-02, 3.40829517e-03, 1.32893651e-07,\n",
       "       2.33229334e-05])"
      ]
     },
     "execution_count": 48,
     "metadata": {},
     "output_type": "execute_result"
    }
   ],
   "source": [
    "np.array(ps)/len(ps)"
   ]
  },
  {
   "cell_type": "code",
   "execution_count": 49,
   "id": "bd138561",
   "metadata": {},
   "outputs": [],
   "source": [
    "import statsmodels.stats.multitest"
   ]
  },
  {
   "cell_type": "code",
   "execution_count": 50,
   "id": "caf6b28f",
   "metadata": {},
   "outputs": [
    {
     "data": {
      "text/plain": [
       "(array([False, False,  True,  True,  True]),\n",
       " array([1.00000000e+00, 3.92573617e-01, 2.84024597e-02, 3.32234127e-06,\n",
       "        2.91536668e-04]))"
      ]
     },
     "execution_count": 50,
     "metadata": {},
     "output_type": "execute_result"
    }
   ],
   "source": [
    "statsmodels.stats.multitest.fdrcorrection(ps, alpha=0.05, method='indep', is_sorted=False)"
   ]
  },
  {
   "cell_type": "code",
   "execution_count": null,
   "id": "67bc2bad",
   "metadata": {},
   "outputs": [],
   "source": []
  },
  {
   "cell_type": "code",
   "execution_count": null,
   "id": "cc3be817",
   "metadata": {},
   "outputs": [],
   "source": []
  }
 ],
 "metadata": {
  "kernelspec": {
   "display_name": "ReDD_plot [/nfs/turbo/umms-kinfai/haorli/envs/ReDD_plot/]",
   "language": "python",
   "name": "mamba_redd_plot"
  },
  "language_info": {
   "codemirror_mode": {
    "name": "ipython",
    "version": 3
   },
   "file_extension": ".py",
   "mimetype": "text/x-python",
   "name": "python",
   "nbconvert_exporter": "python",
   "pygments_lexer": "ipython3",
   "version": "3.11.5"
  }
 },
 "nbformat": 4,
 "nbformat_minor": 5
}
