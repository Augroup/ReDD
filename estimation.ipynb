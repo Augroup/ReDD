{
 "cells": [
  {
   "cell_type": "code",
   "execution_count": 24,
   "id": "9ec7148c",
   "metadata": {},
   "outputs": [],
   "source": [
    "# one flowcell\n",
    "event_align_time_core_hours = 3 * 12 * 2"
   ]
  },
  {
   "cell_type": "code",
   "execution_count": 25,
   "id": "865cb7ce",
   "metadata": {},
   "outputs": [],
   "source": [
    "extract_signal_time_core_hours = 2 * 28 * 12"
   ]
  },
  {
   "cell_type": "code",
   "execution_count": 26,
   "id": "d7782cea",
   "metadata": {},
   "outputs": [
    {
     "data": {
      "text/plain": [
       "17280"
      ]
     },
     "execution_count": 26,
     "metadata": {},
     "output_type": "execute_result"
    }
   ],
   "source": [
    "1440 * 12"
   ]
  },
  {
   "cell_type": "code",
   "execution_count": 27,
   "id": "8f9a2c24",
   "metadata": {},
   "outputs": [],
   "source": [
    "predict_core_hours = 4 * 5 * 12"
   ]
  },
  {
   "cell_type": "code",
   "execution_count": 28,
   "id": "a9eebc6a",
   "metadata": {},
   "outputs": [
    {
     "data": {
      "text/plain": [
       "240"
      ]
     },
     "execution_count": 28,
     "metadata": {},
     "output_type": "execute_result"
    }
   ],
   "source": [
    "predict_core_hours"
   ]
  },
  {
   "cell_type": "code",
   "execution_count": 29,
   "id": "0a5777ae",
   "metadata": {},
   "outputs": [
    {
     "data": {
      "text/plain": [
       "2"
      ]
     },
     "execution_count": 29,
     "metadata": {},
     "output_type": "execute_result"
    }
   ],
   "source": [
    "3*60 // 12 // 6"
   ]
  },
  {
   "cell_type": "code",
   "execution_count": 31,
   "id": "64bd91d9",
   "metadata": {},
   "outputs": [
    {
     "data": {
      "text/plain": [
       "1004"
      ]
     },
     "execution_count": 31,
     "metadata": {},
     "output_type": "execute_result"
    }
   ],
   "source": [
    "predict_core_hours + extract_signal_time_core_hours + event_align_time_core_hours + 20"
   ]
  },
  {
   "cell_type": "code",
   "execution_count": 33,
   "id": "ee9ea6ef",
   "metadata": {},
   "outputs": [
    {
     "data": {
      "text/plain": [
       "41.833333333333336"
      ]
     },
     "execution_count": 33,
     "metadata": {},
     "output_type": "execute_result"
    }
   ],
   "source": [
    "1004 / 24"
   ]
  },
  {
   "cell_type": "code",
   "execution_count": null,
   "id": "a9c5df78",
   "metadata": {},
   "outputs": [],
   "source": []
  }
 ],
 "metadata": {
  "kernelspec": {
   "display_name": "jupnb",
   "language": "python",
   "name": "jupnb"
  },
  "language_info": {
   "codemirror_mode": {
    "name": "ipython",
    "version": 3
   },
   "file_extension": ".py",
   "mimetype": "text/x-python",
   "name": "python",
   "nbconvert_exporter": "python",
   "pygments_lexer": "ipython3",
   "version": "3.6.13"
  }
 },
 "nbformat": 4,
 "nbformat_minor": 5
}
